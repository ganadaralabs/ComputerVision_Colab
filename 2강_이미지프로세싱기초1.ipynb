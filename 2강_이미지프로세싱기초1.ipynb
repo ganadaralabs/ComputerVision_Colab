{
  "nbformat": 4,
  "nbformat_minor": 0,
  "metadata": {
    "colab": {
      "name": "2강_이미지프로세싱기초1.ipynb",
      "provenance": [],
      "collapsed_sections": [],
      "authorship_tag": "ABX9TyPPij1VtJoLq7ZuPIDyS0Dy",
      "include_colab_link": true
    },
    "kernelspec": {
      "name": "python3",
      "display_name": "Python 3"
    }
  },
  "cells": [
    {
      "cell_type": "markdown",
      "metadata": {
        "id": "view-in-github",
        "colab_type": "text"
      },
      "source": [
        "<a href=\"https://colab.research.google.com/github/ganadaralabs/ComputerVision_Colab/blob/main/2%EA%B0%95_%EC%9D%B4%EB%AF%B8%EC%A7%80%ED%94%84%EB%A1%9C%EC%84%B8%EC%8B%B1%EA%B8%B0%EC%B4%881.ipynb\" target=\"_parent\"><img src=\"https://colab.research.google.com/assets/colab-badge.svg\" alt=\"Open In Colab\"/></a>"
      ]
    },
    {
      "cell_type": "markdown",
      "metadata": {
        "id": "W28jRm2FfiSd"
      },
      "source": [
        "#실습2_**이미지 프로세싱**의 기초1"
      ]
    },
    {
      "cell_type": "markdown",
      "metadata": {
        "id": "WvZQdJ6DG97s"
      },
      "source": [
        "##01 주로 사용 할 파이썬 라이브러리\n",
        "\n",
        "###NumPy\n",
        "- C언어로 구현된 고성능의 수치계산을 위한 파이썬 라이브러리 \n",
        "- 많은 양의 데이터와 **다차원 배열(multidimensional arrays)**을 효율적으로 표현/처리\n",
        "- *OpenCV, Scikit-learn* 같은 이미지 프로세싱과 머신러닝 라이브러리 등 에서 Numpy 배열을 사용 \n",
        "- **파이썬의 리스트(list)**와 다르게 **NumPy의 배열(array)**은 자료형이 하나로 정해짐\n",
        "- `import numpy as np`\n",
        "\n",
        "###Pandas\n",
        "- Numpy의 다차원 배열을 보기 편하게 돕기 위해, 엑셀처럼 표 형태의 `DataFrame` 인터페이스를 제공하는 파이썬 라이브러리  \n",
        "- `Series`와 `DataFrame`은 행과 열을 표시하고 데이터 타입이 섞기거나 누락 된 것을 쉽게 볼 수 있도록 함\n",
        "- CSV 형태로 데이터를 가져오거나(import) 내보낼(export) 때 유용\n",
        "- `import pandas as pd`\n",
        "\n",
        "###Matplotlib\n",
        "- MATLAB을 파이썬으로 대체하기 위해 주로 그래프를 그릴 때 사용되는 파이썬 라이브러리\n",
        "- MATLAB스타일의 툴을 `pyplot` 인터페이스로 사용 (보통 plt로 축약)\n",
        "- `import matplotlib.pyplot as plt` 혹은 `from matplotlib import pyplot as plt`\n",
        "\n",
        "###Pillow\n",
        "- PIL(Python Image Library)이라는 파이썬 이미지 라이브러리를 업그레이드한 파이썬 이미지처리 라이브러리\n",
        "- PIL은 2011년부터 업데이트 되지않아서 Pillow를 사용하지만 파이썬에서 불러올 때는 호환성을 위해 PIL 모듈로 불러옴\n",
        "- “jpeg”, “png”, “gif”, “tiff” 등의 다양한 이미지 형식을 지원한다.\n",
        "-  `from PIL import Image`\n",
        "\n",
        "###OpenCV\n",
        "- C/C++로 구현된 실시간 이미지 프로세싱을 위한 파이썬 라이브러리\n",
        "- `import cv2`\n",
        "- `from google.colab.patches import cv2_imshow`: cv2.imshow() 함수를 코랩에서 호환 가능하도록 만든 함수\n",
        "\n",
        "<br>\n",
        "\n",
        "[참고자료] Numpy와 Matplotlib에 대해 더 공부하고 싶다면: \n",
        "\n",
        "- [Charts in Colaboratory](https://colab.research.google.com/notebooks/charts.ipynb#scrollTo=QSMmdrrVLZ-N)\n",
        "\n",
        "- [Python Data Science Handbook](https://colab.research.google.com/github/jakevdp/PythonDataScienceHandbook/blob/master/notebooks/Index.ipynb)\n",
        "\n",
        "- [넘파이 공식홈페이지](https://numpy.org/devdocs/user/index.html)\n",
        "\n",
        "\n",
        "---"
      ]
    },
    {
      "cell_type": "markdown",
      "metadata": {
        "id": "FuV6s60T8dCy"
      },
      "source": [
        "**01.1 NumPy 자료구조**\n",
        "**`numpy.ndarray`(N-dimensional array)**로 표현 \n",
        "  - **스칼라(scalar)**: 숫자 하나로 이루어진 데이터\n",
        "  - **벡터(vector)**: 1차원 배열\n",
        "    - 행(行,세로)이나 열(列,가로)로 표현된 1차원 벡터 둘 다 동일\n",
        "  - **행렬(매트릭스, matrix)**: 2차원 배열\n",
        "  - **텐서(tensor)**: 3차원과 3차원보다 높은 배열\n",
        "\n",
        "![1차원 배열생성](https://numpy.org/doc/stable/_images/np_array.png)\n",
        "![2차원 배열생성](https://numpy.org/doc/stable/_images/np_create_matrix.png)\n"
      ]
    },
    {
      "cell_type": "code",
      "metadata": {
        "colab": {
          "base_uri": "https://localhost:8080/"
        },
        "id": "KFC6ihyicn-y",
        "outputId": "6ea8bd9a-372f-41ec-dff1-feb8c6bdcbdc"
      },
      "source": [
        "import numpy as np\n",
        "\n",
        "vector = np.array([1, 2, 3, 4, 5, 6])\n",
        "matrix = np.array([[1, 2, 3], [4, 5, 6]])\n",
        "tensor = np.array([[[1], [2], [3]], [[4], [5], [6]]])\n",
        "\n",
        "print(vector, \"\\n\")\n",
        "print(matrix, \"\\n\")\n",
        "print(tensor)"
      ],
      "execution_count": null,
      "outputs": [
        {
          "output_type": "stream",
          "text": [
            "[1 2 3 4 5 6] \n",
            "\n",
            "[[1 2 3]\n",
            " [4 5 6]] \n",
            "\n",
            "[[[1]\n",
            "  [2]\n",
            "  [3]]\n",
            "\n",
            " [[4]\n",
            "  [5]\n",
            "  [6]]]\n"
          ],
          "name": "stdout"
        }
      ]
    },
    {
      "cell_type": "markdown",
      "metadata": {
        "id": "f6Y2I_RQcbCt"
      },
      "source": [
        "**01.2 Numpy 배열의 정보**\n",
        "\n",
        "- **ndarray.ndim**: 배열 차원의 축 갯수\n",
        "- **ndarray.shape** 배열의 각 차원을 튜플로 나타냇 것\n",
        "- **ndarray.size**: 배열의 총 요소 갯수\n",
        "  - Shape의 각 차원 항목을 곲한 값이기도 함 \n",
        "- **ndarray.dtype**: 배열 요소의 자료형\n",
        "  - 파이썬의 자료형이나 NumPy의 자료형을 지정   \n",
        "  - *e.g. numpy.int32, numpy.int16, numpy.float64*\n",
        "- **ndarray.itemsize**: 각 요소의 바이트(bytes) 사이즈\n",
        "  - ndarray.dtype.itemsize와 같음\n",
        "  - *e.g. dtype이 float64* 배열 요소는 아이템사이즈(itemsize) 64/8 = 8 바이트 "
      ]
    },
    {
      "cell_type": "code",
      "metadata": {
        "id": "svtlsybWDAaY"
      },
      "source": [
        "print(\"vector]\",\"\\n\",\"-ndim:\",vector.ndim,\"-shape:\",vector.shape,\"-size:\",vector.size,\"-dtype:\",vector.dtype,\"-itemsize:\",vector.itemsize)\n",
        "print(vector)\n",
        "print(\"\\n\"+\"matrix]\",\"\\n\",\"-ndim:\",matrix.ndim,\"-shape:\",matrix.shape,\"-size:\",matrix.size,\"-dtype:\",matrix.dtype,\"-itemsize:\",matrix.itemsize)\n",
        "print(matrix)\n",
        "print(\"\\n\"+\"tensor]\",\"\\n\",\"-ndim:\",tensor.ndim,\"-shape:\",tensor.shape,\"-size:\",tensor.size,\"-dtype:\",tensor.dtype,\"-itemsize:\",tensor.itemsize)\n",
        "print(tensor)"
      ],
      "execution_count": null,
      "outputs": []
    },
    {
      "cell_type": "markdown",
      "metadata": {
        "id": "j0Dby6OzPdtF"
      },
      "source": [
        "**01.3 NumPy 배열의 인덱싱, 슬라이싱**\n",
        "\n",
        "- **NumPy 슬라이싱**\n",
        "  - NumPy 배열[a:b]를 이용하여 배열을 자를 수 있음\n",
        "    - a: **시작값**, b: **도착값**(슬라이싱한 값에 포함되지 않음)\n",
        "  - index는 0부터 배열의 인자 갯수에 -1을 한 숫자까지 존재 \n",
        "  - 숫자 없이 `:`만 사용할 경우, 모든 행 또는 열을 의미\n",
        "    - `:n`은 index[0]부터 index[n-1]까지\n",
        "    - `n:`은 index[n]부터 index[전체 요소 갯수 -1]까지 \n",
        "\n"
      ]
    },
    {
      "cell_type": "markdown",
      "metadata": {
        "id": "aH4eSkXyPprR"
      },
      "source": [
        "1차원 배열(벡터) 인덱싱, 슬라이싱\n",
        "\n",
        "![1차원 인덱싱, 슬라이싱](https://numpy.org/doc/stable/_images/np_indexing.png)"
      ]
    },
    {
      "cell_type": "code",
      "metadata": {
        "id": "fmZn2Dzolusl"
      },
      "source": [
        "data = np.array([1, 2, 3])\n",
        "\n",
        "print(\" data\\n\",data)\n",
        "print(\"\\n\",\"data[0]\\n\",data[0])\n",
        "print(\"\\n\",\"data[1]\\n\",data[1])\n",
        "print(\"\\n\",\"data[0:2]\\n\",data[0:2])\n",
        "print(\"\\n\",\"data[1:]\\n\",data[1:])\n",
        "print(\"\\n\",\"data[-2:]\\n\",data[-2:])"
      ],
      "execution_count": null,
      "outputs": []
    },
    {
      "cell_type": "markdown",
      "metadata": {
        "id": "4FaPzX8gmu-s"
      },
      "source": [
        "2차원 배열(행렬/매트릭스) 인덱싱, 슬라이싱\n",
        "\n",
        "![2차원 인덱싱, 슬라이싱](https://numpy.org/doc/stable/_images/np_matrix_indexing.png)\n"
      ]
    },
    {
      "cell_type": "code",
      "metadata": {
        "id": "894azSsOg9eW"
      },
      "source": [
        "data = np.array([[1,2],[3,4],[5,6]])\n",
        "\n",
        "print(\" data\\n\",data)\n",
        "print(\"\\n\",\"data[0,1]\\n\",data[0,1])\n",
        "print(\"\\n\",\"data[1:3]\\n\",data[1:3])\n",
        "print(\"\\n\",\"data[0:2,0]\\n\",data[0:2,0])"
      ],
      "execution_count": null,
      "outputs": []
    },
    {
      "cell_type": "markdown",
      "metadata": {
        "id": "wpQi6Zj6DMhD"
      },
      "source": [
        "\n",
        "**01.4 Numpy 배열 간의 브로드캐스팅 사칙연산**\n",
        "\n",
        "**브로드캐스팅(boardcasting)**: 작은 크기의 배열을 숫자가 큰 크기의 배열에 **브로드캐스팅(broadcasting)**-흩뿌려지는 연산 \n",
        "- **조건1**: 두 배열의 shape(), 즉, 각 차원의 크기가 같을 때\n",
        "  - 같은 크기인 두 배열의 **요소 간(element-wise)** 브로드캐스팅 사칙연산 "
      ]
    },
    {
      "cell_type": "markdown",
      "metadata": {
        "id": "4UBL1_MEtG4Q"
      },
      "source": [
        "--- \n",
        "같은 크기인 두 2차원 배열의 브로드캐스팅 사칙연산 예시\n",
        "![1차원 배열](https://numpy.org/doc/stable/_images/np_array_dataones.png)\n",
        "![1차원 배열 간의 덧셈](https://numpy.org/doc/stable/_images/np_data_plus_ones.png)\n",
        "![1차원 배열 간의 사칙연산](https://numpy.org/doc/stable/_images/np_sub_mult_divide.png)\n",
        "\n",
        "---\n"
      ]
    },
    {
      "cell_type": "code",
      "metadata": {
        "id": "LLhzJwUNovSP"
      },
      "source": [
        "data = np.array([1, 2])\n",
        "ones = np.ones(2,dtype=int)\n",
        "print(\"data+ones\",\"\\n\",data+ones)\n",
        "print(\"data-ones\",\"\\n\",data-ones)\n",
        "print(\"data*data\",\"\\n\",data*data)\n",
        "print(\"data/data\",\"\\n\",data/data)"
      ],
      "execution_count": null,
      "outputs": []
    },
    {
      "cell_type": "markdown",
      "metadata": {
        "id": "IKiKc0LopN-o"
      },
      "source": [
        "---\n",
        "같은 크기인 두 2차원 배열의 브로드캐스팅 덧셈 예시\n",
        "![2차원 배열의 덧셈](https://numpy.org/doc/stable/_images/np_matrix_arithmetic.png)\n",
        "\n",
        "---\n"
      ]
    },
    {
      "cell_type": "code",
      "metadata": {
        "id": "fCB4XRvBpNpw"
      },
      "source": [
        "data = np.array([[1, 2], [3, 4]])\n",
        "ones = np.array([[1, 1], [1, 1]])\n",
        "print(\"data+ones\",\"\\n\",data+ones)"
      ],
      "execution_count": null,
      "outputs": []
    },
    {
      "cell_type": "markdown",
      "metadata": {
        "id": "W0_JDj2kokIT"
      },
      "source": [
        "\n",
        "- **조건2**: 배열의 크기가 다르더라도 각 차원의 크기가 둘 중에 하나가 1인 경우\n",
        "  - 사이즈가 1일 경우 다른 배열의 사이즈를 맞추기 위해 복제(stretched or copied)됨\n",
        "    - 스칼라(숫자)와 배열의 브로드캐스팅\n",
        "    ![브로드캐스팅](https://numpy.org/doc/stable/_images/np_multiply_broadcasting.png)\n",
        "    \n",
        "    - 크기가 다른 배열의 브로드캐스팅\n",
        "    ![](https://numpy.org/doc/stable/_images/np_matrix_broadcasting.png)\n",
        "      \n",
        "\n",
        "\n",
        "\n"
      ]
    },
    {
      "cell_type": "code",
      "metadata": {
        "id": "VGW4BP4eouZ9"
      },
      "source": [
        "data1D = np.array([1.0, 2.0])\n",
        "print(\"data1D*1.6\",\"\\n\",data1D*1.6,\"\\n\")\n",
        "\n",
        "data2D = np.array([[1, 2], [3, 4], [5, 6]])\n",
        "ones_row = np.array([[1, 1]])\n",
        "print(\"data2D+ones_row\",\"\\n\",data2D+ones_row)"
      ],
      "execution_count": null,
      "outputs": []
    },
    {
      "cell_type": "markdown",
      "metadata": {
        "id": "Im5raOH2onpb"
      },
      "source": [
        "- **그 외 예시:** 크기가 다른 배열의 브로드캐스팅이 가능한 경우 \n",
        "```\n",
        "  Image  (3d array): 256 x 256 x 3\n",
        "  Scale  (1d array):             3\n",
        "  Result (3d array): 256 x 256 x 3\n",
        "```\n",
        "\n",
        "  ```\n",
        "  A      (2d array):  5 x 4\n",
        "  B      (1d array):      1\n",
        "  Result (2d array):  5 x 4\n",
        "  ```\n",
        "  ```\n",
        "  A      (2d array):  5 x 4\n",
        "  B      (1d array):      4\n",
        "  Result (2d array):  5 x 4\n",
        "  ```\n",
        "  ```\n",
        "  A      (3d array):  15 x 3 x 5\n",
        "  B      (3d array):  15 x 1 x 5\n",
        "  Result (3d array):  15 x 3 x 5\n",
        "  ```\n",
        "  ```\n",
        "  A      (3d array):  15 x 3 x 5\n",
        "  B      (2d array):       3 x 5\n",
        "  Result (3d array):  15 x 3 x 5\n",
        "  ```\n",
        "  ```\n",
        "  A      (3d array):  15 x 3 x 5\n",
        "  B      (2d array):       3 x 1\n",
        "  Result (3d array):  15 x 3 x 5\n",
        "  ```"
      ]
    },
    {
      "cell_type": "markdown",
      "metadata": {
        "id": "vNXIHNrGfbjD"
      },
      "source": [
        "**01.5 Numpy 배열의 차원변경과 전치연산**\n",
        "\n",
        "- 배열의 **차원변경(Reshaping)**\n",
        "  - array**.reshape**(1차원:행, 2차원:열)\n",
        "![](https://numpy.org/doc/stable/_images/np_reshape.png)\n",
        "- 배열의 **전치연산(Transposing)**\n",
        "  - array**.transpose()**\n",
        "  - array**.T**\n",
        "![](https://numpy.org/doc/stable/_images/np_transposing_reshaping.png)"
      ]
    },
    {
      "cell_type": "code",
      "metadata": {
        "id": "hbwacUKig2yH"
      },
      "source": [
        "#벡터의 차원변경(Reshaping)\n",
        "vector = np.array([1, 2, 3, 4, 5, 6])\n",
        "\n",
        "print(\"Reshaped Vector - 2x3 Matrix\")\n",
        "print(vector.reshape(2, 3))\n",
        "\n",
        "print(\"Reshaped Vector - 3x2 Matrix\")\n",
        "print(vector.reshape(3, 2))\n",
        "\n",
        "\n",
        "#행렬/매트릭스의 전치연산(Transposing)\n",
        "matrix = np.array([[1, 2, 3], [4, 5, 6]])\n",
        "\n",
        "print(\"Original 2x3 Matrix\")\n",
        "print(matrix)\n",
        "\n",
        "print(\"Transposed 3x2 Matrix\")\n",
        "print(matrix.T)\n",
        "#print(matrix.transpose())"
      ],
      "execution_count": null,
      "outputs": []
    },
    {
      "cell_type": "markdown",
      "metadata": {
        "id": "Do4EYGCCgQ76"
      },
      "source": [
        "**01.6 NumPy와 Pandas, Matplotlib으로 데이터 다루기**"
      ]
    },
    {
      "cell_type": "code",
      "metadata": {
        "id": "xnaA1q8xORRg"
      },
      "source": [
        "#NumPy 라이브러리\n",
        "import numpy as np\n",
        "\n",
        "y = np.random.randint(low=0, high=10, size=10)\n",
        "x = np.arange(len(y))\n",
        "\n",
        "print(y, type(y), y.dtype)\n",
        "print(x ,type(x), x.dtype)\n"
      ],
      "execution_count": null,
      "outputs": []
    },
    {
      "cell_type": "code",
      "metadata": {
        "id": "oT2ojnQ2TgZB"
      },
      "source": [
        "#Pandas 라이브러리\n",
        "import pandas as pd\n",
        "display(pd.DataFrame({'x': x, 'y': y}))"
      ],
      "execution_count": null,
      "outputs": []
    },
    {
      "cell_type": "code",
      "metadata": {
        "id": "DppCB23GTh1l"
      },
      "source": [
        "#Matplotlib 라이브러리\n",
        "import matplotlib.pyplot as plt\n",
        "plt.plot(x,y,'-')\n",
        "plt.title('NumPy + Matplotlib Graph')\n",
        "plt.show()"
      ],
      "execution_count": null,
      "outputs": []
    },
    {
      "cell_type": "markdown",
      "metadata": {
        "id": "ViziKDZqheD6"
      },
      "source": [
        "##02 이미지의 이해"
      ]
    },
    {
      "cell_type": "markdown",
      "metadata": {
        "id": "M4KGvfrPr99i"
      },
      "source": [
        "**02.1 Pillow와 NumPy 배열을 사용해 이미지 생성**\n"
      ]
    },
    {
      "cell_type": "code",
      "metadata": {
        "id": "ZI-QGUNrdk6g"
      },
      "source": [
        "from PIL import Image\n",
        "import numpy as np\n",
        "import pandas as pd\n",
        "\n",
        "#2x2 빨간색 이미지 생성\n",
        "img = Image.new('RGB', (2,2), color = 'red')\n",
        "print('image size: '+str(img.size)+'\\n')\n",
        "\n",
        "#이미지 출력\n",
        "display(img)\n",
        "\n",
        "#이미지 저장\n",
        "imgPath = '2by2.png'\n",
        "img.save(imgPath)"
      ],
      "execution_count": null,
      "outputs": []
    },
    {
      "cell_type": "code",
      "metadata": {
        "id": "Se4v4Lr5oDfK"
      },
      "source": [
        "#NumPy 배열\n",
        "print(np.array(img))"
      ],
      "execution_count": null,
      "outputs": []
    },
    {
      "cell_type": "code",
      "metadata": {
        "id": "pB70ylRrvNPT"
      },
      "source": [
        "#NumPy 배열을 Pandas 데이터프레임으로 표현\n",
        "display(pd.DataFrame.from_records(np.array(img)))"
      ],
      "execution_count": null,
      "outputs": []
    },
    {
      "cell_type": "code",
      "metadata": {
        "id": "lw1En46UoBLO"
      },
      "source": [
        "#이미지를 크게 확대\n",
        "enlargedImage=img.resize((50,50))\n",
        "\n",
        "#확대한 이미지 출력\n",
        "display(enlargedImage)\n",
        "\n",
        "#확대한 이미지 저장\n",
        "enlargedPath='50by50.png'\n",
        "enlargedImage.save(enlargedPath)"
      ],
      "execution_count": null,
      "outputs": []
    },
    {
      "cell_type": "code",
      "metadata": {
        "id": "IknpR-RCopSJ"
      },
      "source": [
        "#이미지 불러오기\n",
        "img = Image.open('/content/2by2.png')\n",
        "pix = img.load()\n",
        "\n",
        "#pix[x,y]\n",
        "print(pix[0,0])\n",
        "print(pix[1,0])\n",
        "print(pix[0,1])\n",
        "print(pix[1,1])"
      ],
      "execution_count": null,
      "outputs": []
    },
    {
      "cell_type": "code",
      "metadata": {
        "id": "A0ebzUlZrBMq"
      },
      "source": [
        "#픽셀 색 바꾸기\n",
        "pix[0,0]=(255,0,0)\n",
        "pix[1,0]=(0,255,0)\n",
        "pix[0,1]=(0,0,255)\n",
        "pix[1,1]=(0,0,0)\n",
        "\n",
        "print(np.array(img))\n",
        "display(pd.DataFrame.from_records(np.array(img)))"
      ],
      "execution_count": null,
      "outputs": []
    },
    {
      "cell_type": "code",
      "metadata": {
        "id": "3KVtO6jRXggx"
      },
      "source": [
        "#이미지 출력\n",
        "display(img)"
      ],
      "execution_count": null,
      "outputs": []
    },
    {
      "cell_type": "code",
      "metadata": {
        "id": "V_hbXfDArTP7"
      },
      "source": [
        "#이미지를 크게 확대 후 출력\n",
        "enlargedImage=img.resize((50,50))\n",
        "display(enlargedImage)"
      ],
      "execution_count": null,
      "outputs": []
    },
    {
      "cell_type": "markdown",
      "metadata": {
        "id": "WVz377S4b4ky"
      },
      "source": [
        "**02.2 Numpy를 사용해 빈 이미지 만들기**\n",
        "- 파이썬 배열은 자료형이나 크기를 지정하지 않지만 Numpy배열은 명시적으로 자료형을 지정하는 것이 효율적\n",
        "- RGB image로 만들 것이기 때문에 (세로 픽셀 수, 가로 필셀 수, 컬러 채널)3차원 배열을 생성\n",
        "- 각각 이미지 픽셀은 (0-255)의 자연수 값을 가짐: 8-bit unsigned integer인  `unint8` 데이터 타입을 사용 \n",
        "- Matplotlib의 [`plt.savefig()`](https://problemsolvingwithpython.com/06-Plotting-with-Matplotlib/06.04-Saving-Plots/)는 `plt.show()` 전에 사용해야 이미지를 저장\n",
        "\n",
        "\n",
        "\n"
      ]
    },
    {
      "cell_type": "code",
      "metadata": {
        "id": "bH6GHeFiAFAP"
      },
      "source": [
        "#OpenCV 라이브러리\n",
        "import cv2\n",
        "from google.colab.patches import cv2_imshow #Colab에서만 사용\n",
        "import numpy as np\n",
        "\n",
        "#2행, 2열, 3개의 RGB 채널의 모든 값이 0인, 픽셀 당 8 bits 크기를 가진 컬러 이미지를 생성\n",
        "canvas = np.zeros((2,2,3), np.uint8)\n",
        "\n",
        "#OpenCV 사용해 이미지 출력 및 저장\n",
        "cv2_imshow(canvas)\n",
        "cv2.imwrite(\"numpyImage.jpg\",canvas)"
      ],
      "execution_count": null,
      "outputs": []
    },
    {
      "cell_type": "code",
      "metadata": {
        "id": "lLrxTYAHrJEu"
      },
      "source": [
        "import numpy as np\n",
        "import pandas as pd\n",
        "import matplotlib.pyplot as plt\n",
        "\n",
        "#2행, 2열, 3개의 RGB 채널의 모든 값이 0인, 픽셀 당 8 bits 크기를 가진 컬러 이미지를 생성\n",
        "canvas = np.zeros((2,2,3), np.uint8)\n",
        "print(canvas)\n",
        "\n",
        "#Pandas 배열 표현\n",
        "display(pd.DataFrame.from_records(canvas))\n",
        "\n",
        "#Matplotlib 그래프 표현\n",
        "plt.title('np.zeros')\n",
        "plt.xticks([0,1])\n",
        "plt.yticks([0,1])\n",
        "plt.imshow(canvas)\n",
        "\n",
        "#Matplotlib 그래프 저장 **plt.show()이전에 와야 함\n",
        "plt.savefig(\"figure1.png\", transparent=True)\n",
        "\n",
        "#Matplotlib 그래프 출력 \n",
        "plt.show()"
      ],
      "execution_count": null,
      "outputs": []
    },
    {
      "cell_type": "markdown",
      "metadata": {
        "id": "0GLcZujDfGiu"
      },
      "source": [
        "**02.3 Matplotlib로 여러 이미지 한 번에 출력**"
      ]
    },
    {
      "cell_type": "code",
      "metadata": {
        "id": "wn8nZ2kIfIkG"
      },
      "source": [
        "import numpy as np\n",
        "import matplotlib.pyplot as plt\n",
        "\n",
        "#300행, 300열, 3개의 RGB 채널, 픽셀 당 8 bits 크기를 가진 검은색과 하얀색 컬러 이미지를 생성\n",
        "canvas_b = np.zeros((300,300,3), np.uint8) \n",
        "canvas_w = np.full((300,300,3), 255, np.uint8)\n",
        "\n",
        "images = [canvas_b, canvas_w]\n",
        "titles = ['Black Image','White Image']\n",
        "\n",
        "fig, axes = plt.subplots(2, 1) # 2개의 그래프가 들어가는 Figure 생성\n",
        "for i in range(len(images)):\n",
        "    plt.subplot(1,2,i+1)\n",
        "    plt.imshow(images[i])\n",
        "    plt.title(titles[i])\n",
        "\n",
        "plt.savefig(\"figure2\", transparent=True)\n",
        "plt.show()"
      ],
      "execution_count": null,
      "outputs": []
    },
    {
      "cell_type": "markdown",
      "metadata": {
        "id": "MseS1FUeOarv"
      },
      "source": [
        "**02.4 OpenCV의 이미지 출력 및 Numpy 배열 표현**"
      ]
    },
    {
      "cell_type": "code",
      "metadata": {
        "id": "5vDFsNqdUUYH"
      },
      "source": [
        "#구글 드라이브 마운트 하기\n",
        "from google.colab import drive\n",
        "drive.mount('/content/drive',force_remount=True)\n"
      ],
      "execution_count": null,
      "outputs": []
    },
    {
      "cell_type": "code",
      "metadata": {
        "id": "jjx7q0ZxlGz3"
      },
      "source": [
        "#OpenCV로 이미지 디스플레이\n",
        "import cv2\n",
        "from google.colab.patches import cv2_imshow \n",
        "\n",
        "imagePath ='/content/drive/MyDrive/Colab Notebooks/photos/building300x200.jpg' #이미지의 위치로 변경\n",
        "image = cv2.imread(imagePath) \n",
        "cv2_imshow(image)"
      ],
      "execution_count": null,
      "outputs": []
    },
    {
      "cell_type": "code",
      "metadata": {
        "id": "-Df0ZawU8ksL"
      },
      "source": [
        "#Pandas로 이미지 배열표현 \n",
        "import pandas as pd\n",
        "display(pd.DataFrame.from_records(image))"
      ],
      "execution_count": null,
      "outputs": []
    },
    {
      "cell_type": "code",
      "metadata": {
        "id": "Wq_HqNgVlLa-"
      },
      "source": [
        "#이미지를 표현하는 자료형\n",
        "print(\"type(image): {}\".format(type(image)))\n",
        "print(\"\\n\")\n",
        "\n",
        "#NumPy ndim: 차원의 수\n",
        "print(\"이미지 배열 차원 수(image.ndim): {}\".format(image.ndim))\n",
        "#NumPy shape: 각 차원의 크기 (튜플로 표현)\n",
        "print(\"이미지 각 차원의 크기(image.shape): {}\".format(image.shape))\n",
        "print(\"세로(image.shape[0]): {} 픽셀\".format(image.shape[0]))\n",
        "print(\"가로(image.shape[1]): {} 픽셀\".format(image.shape[1]))\n",
        "print(\"채널(image.shape[2]): {} 색상채널\".format(image.shape[2]))\n",
        "print(\"\\n\")\n",
        "\n",
        "#NumPy size: 전체 요소의 개수\n",
        "print(\"이미지 배열의 전체 요소 갯수(image.size): {}\".format(image.size))\n",
        "#NumPy dtype: 요소의 데이터 타입\n",
        "print(\"이미지 배열의 각 요소 데이터 타입: {}\".format(image.dtype))\n",
        "#NumPy itemsize: 각 요소의 byte 크기\n",
        "print(\"배열의 각 요소의 크기: {}byte (1byte=8bits)\".format(image.itemsize))"
      ],
      "execution_count": null,
      "outputs": []
    },
    {
      "cell_type": "markdown",
      "metadata": {
        "id": "pQYs53GQbFYY"
      },
      "source": [
        "**02.5 OpenCV와  Numpy, Matplotlib을 사용할 때 많은 사람들이 실수하는 것**\n",
        "1. Matplotlib는 RGB시스템을 사용하지만 OpenCV는 BGR 시스템을 사용한다. (참고: [RGB가 아닌 BGR로 쓰게 된 이유](https://learnopencv.com/why-does-opencv-use-bgr-color-format/))\n",
        "2. 이미지 좌표(x,y) 시스템은 좌측상단(0,0)을 기준으로 우측으로 갈 수록 x값⬆, 하단으로 갈 수록 y값⬆ \n",
        "3. 이미지를 Numpy행렬(Matrix)로 표현 시 [행/rows, 열/columns]로 표현되기 때문에 `image[y,x]`\n"
      ]
    },
    {
      "cell_type": "code",
      "metadata": {
        "id": "5AJCOf8PxwRC"
      },
      "source": [
        "import cv2\n",
        "from google.colab.patches import cv2_imshow \n",
        "import matplotlib.pyplot as plt\n",
        "\n",
        "imagePath ='/content/drive/MyDrive/Colab Notebooks/photos/orange400x500.jpg' #이미지의 위치로 변경\n",
        "image = cv2.imread(imagePath) \n",
        "\n",
        "print(\"01. OpenCV BGR이미지 출력\")\n",
        "cv2_imshow(image)\n",
        "\n",
        "print(\"02. OpenCV BGR이미지를 Matplotlib로 출력\")\n",
        "plt.imshow(image)\n",
        "plt.show()\n",
        "\n",
        "print(\"03. OpenCV 이미지를 RGB이미지로 변환 후 Matplotlib로 출력\")\n",
        "plt.imshow(cv2.cvtColor(image, cv2.COLOR_BGR2RGB))\n",
        "plt.show()"
      ],
      "execution_count": null,
      "outputs": []
    },
    {
      "cell_type": "code",
      "metadata": {
        "id": "TpRBl0Y0qUaY"
      },
      "source": [
        "#이미지 왼쪽 상단 (0,0) 픽셀의 OpenCV(BGR)컬러값\n",
        "(b,g,r) = image[0,0]\n",
        "print(\"(0,0)좌표위치 픽셀 - Red:{}, Green:{}, Blue:{}\".format(r,g,b))\n",
        "\n",
        "#이미지 중앙 픽셀 구하기 //버림(Floor division)\n",
        "(centerY,centerX)=(image.shape[0]//2,image.shape[1]//2)\n",
        "(b,g,r) = image[centerY,centerX]\n",
        "print(\"({},{})좌표위치 픽셀 - Red:{}, Green:{}, Blue:{}\".format(centerX,centerY,r,g,b))\n",
        "\n",
        "plt.imshow(cv2.cvtColor(image, cv2.COLOR_BGR2RGB))\n",
        "plt.show()"
      ],
      "execution_count": null,
      "outputs": []
    },
    {
      "cell_type": "code",
      "metadata": {
        "id": "SqW1H7y9nLBR"
      },
      "source": [
        "#이미지의 픽셀 색상 바꾸기\n",
        "(b,g,r) = image[centerY,centerX]\n",
        "print(\"변경 전 ({},{})좌표위치 픽셀 - Red:{}, Green:{}, Blue:{}\".format(centerX,centerY,r,g,b))\n",
        "\n",
        "#이미지 중앙 픽셀의 색상 값 바꾸기\n",
        "image[centerY-2:centerY+2,centerX-2:centerX+2]=(255,255,255)\n",
        "(b,g,r) = image[centerY,centerX]\n",
        "print(\"변경 후 ({},{})좌표위치 픽셀 - Red:{}, Green:{}, Blue:{}\".format(centerX,centerY,r,g,b))\n",
        "\n",
        "cv2_imshow(image)"
      ],
      "execution_count": null,
      "outputs": []
    },
    {
      "cell_type": "markdown",
      "metadata": {
        "id": "EYvZh-Yr3B7M"
      },
      "source": [
        "##03 이미지 프로세싱 기초"
      ]
    },
    {
      "cell_type": "markdown",
      "metadata": {
        "id": "rrMwWH0c26P_"
      },
      "source": [
        "**03.1 ROI 표현하기**"
      ]
    },
    {
      "cell_type": "code",
      "metadata": {
        "id": "SPBhTidKnh5X"
      },
      "source": [
        "import cv2\n",
        "from google.colab.patches import cv2_imshow \n",
        "import matplotlib.pyplot as plt\n",
        "\n",
        "imagePath ='/content/drive/MyDrive/Colab Notebooks/photos/cat300x400.jpg' #이미지의 위치로 변경\n",
        "image = cv2.imread(imagePath) \n",
        "\n",
        "#부분 이미지 출력: image[Y-start:Y-end, X-start:X-end]\n",
        "ROI = image[65:140, 50:130]\n",
        "cv2_imshow(ROI)\n",
        "\n",
        "#이미지 색상 변환: image[Y-start:Y-end, X-start:X-end]\n",
        "image[65:140, 50:130] = (255,0,0)\n",
        "cv2_imshow(image)"
      ],
      "execution_count": null,
      "outputs": []
    },
    {
      "cell_type": "markdown",
      "metadata": {
        "id": "bMm1_O0MkTG-"
      },
      "source": [
        "**03.2 이미지를 특정 컬러스페이스 읽기**\n"
      ]
    },
    {
      "cell_type": "code",
      "metadata": {
        "id": "XteoasI8boZh"
      },
      "source": [
        "import cv2\n",
        "from google.colab.patches import cv2_imshow # for image display\n",
        "\n",
        "imagePath ='/content/drive/MyDrive/Colab Notebooks/photos/building300x200.jpg' \n",
        "\n",
        "image = cv2.imread(imagePath)\n",
        "image_color = cv2.imread(imagePath,cv2.IMREAD_COLOR)\n",
        "image_grayscale = cv2.imread(imagePath,cv2.IMREAD_GRAYSCALE)\n",
        "\n",
        "cv2_imshow(image)\n",
        "cv2_imshow(image_color)\n",
        "cv2_imshow(image_grayscale)"
      ],
      "execution_count": null,
      "outputs": []
    },
    {
      "cell_type": "markdown",
      "metadata": {
        "id": "WRzrY2A7naO2"
      },
      "source": [
        "**03.3 이미지의 RGB 채널 분리하기**\n",
        "\n",
        "- **cv2.split()** 함수는 BGR 채널별로 분리해서 **튜플로 값을 반환**"
      ]
    },
    {
      "cell_type": "code",
      "metadata": {
        "id": "BJntsWNp_ueo"
      },
      "source": [
        "import cv2\n",
        "from google.colab.patches import cv2_imshow # for image display\n",
        "\n",
        "imagePath ='/content/drive/MyDrive/Colab Notebooks/photos/building300x200.jpg' #이미지의 위치로 변경\n",
        "image = cv2.imread(imagePath)\n",
        "cv2_imshow(image)\n",
        "\n",
        "\n",
        "#(B,G,R) = cv2.split(image)\n",
        "(B,G,R) = image[:, :, 0], image[:, :, 1], image[:, :, 2]\n",
        "\n",
        "cv2_imshow(R)\n",
        "cv2_imshow(G)\n",
        "cv2_imshow(B)"
      ],
      "execution_count": null,
      "outputs": []
    },
    {
      "cell_type": "markdown",
      "metadata": {
        "id": "xdstCEno4XGq"
      },
      "source": [
        "**03.4 이미지의 RGB 채널 합치기**\n",
        "- **cv2.merge()** 함수는 BGR 채널을 합쳐서 BGR 이미지로 반환"
      ]
    },
    {
      "cell_type": "code",
      "metadata": {
        "colab": {
          "base_uri": "https://localhost:8080/",
          "height": 244
        },
        "id": "I1QOMc9SuSIe",
        "outputId": "95170960-7b5b-491b-c9eb-a7eb5e319724"
      },
      "source": [
        "import cv2\n",
        "from google.colab.patches import cv2_imshow # for image display\n",
        "\n",
        "imagePath ='/content/drive/MyDrive/Colab Notebooks/photos/building300x200.jpg' #이미지의 위치로 변경\n",
        "image = cv2.imread(imagePath)\n",
        "\n",
        "(B,G,R) = cv2.split(image)\n",
        "mergedBGR = cv2.merge([B,G,R])\n",
        "mergedRGB = cv2.merge([R,G,B])\n",
        "\n",
        "cv2_imshow(mergedBGR)\n",
        "cv2_imshow(mergedRGB)"
      ],
      "execution_count": null,
      "outputs": [
        {
          "output_type": "error",
          "ename": "ValueError",
          "evalue": "ignored",
          "traceback": [
            "\u001b[0;31m---------------------------------------------------------------------------\u001b[0m",
            "\u001b[0;31mValueError\u001b[0m                                Traceback (most recent call last)",
            "\u001b[0;32m<ipython-input-1-8efc74072201>\u001b[0m in \u001b[0;36m<module>\u001b[0;34m()\u001b[0m\n\u001b[1;32m      5\u001b[0m \u001b[0mimage\u001b[0m \u001b[0;34m=\u001b[0m \u001b[0mcv2\u001b[0m\u001b[0;34m.\u001b[0m\u001b[0mimread\u001b[0m\u001b[0;34m(\u001b[0m\u001b[0mimagePath\u001b[0m\u001b[0;34m)\u001b[0m\u001b[0;34m\u001b[0m\u001b[0;34m\u001b[0m\u001b[0m\n\u001b[1;32m      6\u001b[0m \u001b[0;34m\u001b[0m\u001b[0m\n\u001b[0;32m----> 7\u001b[0;31m \u001b[0;34m(\u001b[0m\u001b[0mB\u001b[0m\u001b[0;34m,\u001b[0m\u001b[0mG\u001b[0m\u001b[0;34m,\u001b[0m\u001b[0mR\u001b[0m\u001b[0;34m)\u001b[0m \u001b[0;34m=\u001b[0m \u001b[0mcv2\u001b[0m\u001b[0;34m.\u001b[0m\u001b[0msplit\u001b[0m\u001b[0;34m(\u001b[0m\u001b[0mimage\u001b[0m\u001b[0;34m)\u001b[0m\u001b[0;34m\u001b[0m\u001b[0;34m\u001b[0m\u001b[0m\n\u001b[0m\u001b[1;32m      8\u001b[0m \u001b[0mmergedBGR\u001b[0m \u001b[0;34m=\u001b[0m \u001b[0mcv2\u001b[0m\u001b[0;34m.\u001b[0m\u001b[0mmerge\u001b[0m\u001b[0;34m(\u001b[0m\u001b[0;34m[\u001b[0m\u001b[0mB\u001b[0m\u001b[0;34m,\u001b[0m\u001b[0mG\u001b[0m\u001b[0;34m,\u001b[0m\u001b[0mR\u001b[0m\u001b[0;34m]\u001b[0m\u001b[0;34m)\u001b[0m\u001b[0;34m\u001b[0m\u001b[0;34m\u001b[0m\u001b[0m\n\u001b[1;32m      9\u001b[0m \u001b[0mmergedRGB\u001b[0m \u001b[0;34m=\u001b[0m \u001b[0mcv2\u001b[0m\u001b[0;34m.\u001b[0m\u001b[0mmerge\u001b[0m\u001b[0;34m(\u001b[0m\u001b[0;34m[\u001b[0m\u001b[0mR\u001b[0m\u001b[0;34m,\u001b[0m\u001b[0mG\u001b[0m\u001b[0;34m,\u001b[0m\u001b[0mB\u001b[0m\u001b[0;34m]\u001b[0m\u001b[0;34m)\u001b[0m\u001b[0;34m\u001b[0m\u001b[0;34m\u001b[0m\u001b[0m\n",
            "\u001b[0;31mValueError\u001b[0m: not enough values to unpack (expected 3, got 0)"
          ]
        }
      ]
    },
    {
      "cell_type": "markdown",
      "metadata": {
        "id": "Pw8RW9324vqN"
      },
      "source": [
        "**03.5 분리한 이미지의 R,G,B 값을 각각의 컬러값으로 표현하기**"
      ]
    },
    {
      "cell_type": "code",
      "metadata": {
        "id": "9NMDsJmk01Wp"
      },
      "source": [
        "zeros = np.zeros(image.shape[:2], dtype = \"uint8\")\n",
        "\n",
        "red = cv2.merge([zeros, zeros, R])\n",
        "green = cv2.merge([zeros, G, zeros])\n",
        "blue = cv2.merge([B, zeros, zeros])\n",
        "\n",
        "RGBChannel_frame = cv2.hconcat((image,red,green,blue))\n",
        "cv2_imshow(RGBChannel_frame)"
      ],
      "execution_count": null,
      "outputs": []
    },
    {
      "cell_type": "code",
      "metadata": {
        "id": "ZtcourlC1Kno"
      },
      "source": [
        "RGBChannel_frame = cv2.hconcat((R,G,B))\n",
        "cv2_imshow(RGBChannel_frame)"
      ],
      "execution_count": null,
      "outputs": []
    },
    {
      "cell_type": "markdown",
      "metadata": {
        "id": "uYp6hvoq5Rpb"
      },
      "source": [
        "**03.6 BGR채널을 다른 컬러스페이스로 변환하기**"
      ]
    },
    {
      "cell_type": "code",
      "metadata": {
        "id": "_gDdgN-S-BbJ"
      },
      "source": [
        "import cv2\n",
        "from google.colab.patches import cv2_imshow # for image display\n",
        "\n",
        "imagePath ='/content/drive/MyDrive/Colab Notebooks/photos/building.jpg' \n",
        "\n",
        "bgrImage = cv2.imread(imagePath)\n",
        "gray = cv2.cvtColor(bgrImage, cv2.COLOR_BGR2GRAY)\n",
        "rgb = cv2.cvtColor(bgrImage, cv2.COLOR_BGR2RGB)\n",
        "rgba = cv2.cvtColor(bgrImage, cv2.COLOR_BGR2RGBA)\n",
        "\n",
        "cv2_imshow(bgrImage)\n",
        "cv2_imshow(gray)\n",
        "cv2_imshow(rgb)\n",
        "cv2_imshow(rgba)"
      ],
      "execution_count": null,
      "outputs": []
    },
    {
      "cell_type": "code",
      "metadata": {
        "id": "_ZI2o-fA3tQt"
      },
      "source": [
        "import cv2\n",
        "from google.colab.patches import cv2_imshow # for image display\n",
        "\n",
        "imagePath ='/content/drive/MyDrive/Colab Notebooks/photos/building.jpg' \n",
        "bgrImage = cv2.imread(imagePath)\n",
        "\n",
        "rgb = cv2.cvtColor(bgrImage, cv2.COLOR_BGR2RGB)\n",
        "hsv = cv2.cvtColor(bgrImage, cv2.COLOR_BGR2HSV)\n",
        "lab = cv2.cvtColor(bgrImage, cv2.COLOR_BGR2LAB)\n",
        "luv = cv2.cvtColor(bgrImage, cv2.COLOR_BGR2LUV)\n",
        "yuv = cv2.cvtColor(bgrImage, cv2.COLOR_BGR2YUV)\n",
        "\n",
        "colorSpace1 = cv2.hconcat((bgrImage,rgb,hsv))\n",
        "colorSpace2 = cv2.hconcat((lab,luv,yuv))\n",
        "colorSpace_frame = cv2.vconcat((colorSpace1,colorSpace2))\n",
        "cv2_imshow(colorSpace_frame)"
      ],
      "execution_count": null,
      "outputs": []
    },
    {
      "cell_type": "code",
      "metadata": {
        "id": "jjDW9CfUFBu8"
      },
      "source": [
        "#opencv로 드라이브에 이미지 저장\n",
        "cv2.imwrite('colorSpace.jpg', colorSpace_frame)"
      ],
      "execution_count": null,
      "outputs": []
    },
    {
      "cell_type": "markdown",
      "metadata": {
        "id": "wRbBAcQm5tEX"
      },
      "source": [
        "**03.7 Matplotlib를 사용 시 RGB 컬러스페이스로 변환하기**"
      ]
    },
    {
      "cell_type": "code",
      "metadata": {
        "id": "H-Xw_IMPRzfi"
      },
      "source": [
        "import cv2\n",
        "from google.colab.patches import cv2_imshow # for image display\n",
        "import matplotlib.pyplot as plt\n",
        "\n",
        "imagePath ='/content/drive/MyDrive/Colab Notebooks/photos/building300x200.jpg' #이미지의 위치로 변경\n",
        "image = cv2.imread(imagePath) \n",
        "\n",
        "plt.imshow(cv2.cvtColor(image, cv2.COLOR_BGR2RGB))\n",
        "plt.show()"
      ],
      "execution_count": null,
      "outputs": []
    },
    {
      "cell_type": "code",
      "metadata": {
        "id": "88kCjdPRb0aM"
      },
      "source": [
        "#Matplotlib를 사용해 figure 드라이브에 저장\n",
        "plt.imshow(cv2.cvtColor(image, cv2.COLOR_BGR2RGB))\n",
        "plt.savefig('matplotlib_figure.png', transparent=True)"
      ],
      "execution_count": null,
      "outputs": []
    },
    {
      "cell_type": "code",
      "metadata": {
        "id": "TYefrwsjDZ75"
      },
      "source": [
        "#파일 내 컴퓨터로 다운로드받기\n",
        "from google.colab import files\n",
        "files.download('matplotlib_figure.png')"
      ],
      "execution_count": null,
      "outputs": []
    },
    {
      "cell_type": "markdown",
      "metadata": {
        "id": "G7GWfOPug4oE"
      },
      "source": [
        "##04 OpenCV로 그림 그리기"
      ]
    },
    {
      "cell_type": "markdown",
      "metadata": {
        "id": "UtmSO9nDtfVr"
      },
      "source": [
        "**04.1 선 그리기**\n",
        "\n",
        "```python\n",
        "cv2.line(image, start, end, color[, thickness, lineType])\n",
        "```\n",
        "\n",
        "시작점과 끝점 점을 연결한 직선 출력\n",
        "\n",
        "Parameters:\t\n",
        "* **image** – 그림을 그릴 이미지 파일\n",
        "* **start** – 시작점 좌표 e.g. (0,0)\n",
        "* **end** – 끝점 좌표 e.g. (500. 500)\n",
        "* **color** – BGR형태의 Color e.g. (255,0,0)→파란색\n",
        "* **thickness** – 선의 두께 (픽셀, 정수)\n",
        "* **lineType** – 선의 종류"
      ]
    },
    {
      "cell_type": "code",
      "metadata": {
        "id": "0QuCX3vPt_ky"
      },
      "source": [
        "import cv2\n",
        "from google.colab.patches import cv2_imshow #colab 호환 가능한 imshow 함수\n",
        "import numpy as np\n",
        "import matplotlib.pyplot as plt\n",
        "\n",
        "# 300행, 300열, 3개의 RGB 채널을 가진 컬러 이미지를 생성\n",
        "# RGB image를 사용할 것이기 때문에 0-255까지의 8-bit unsigned integer를 사용\n",
        "canvas_b = np.zeros((300,300,3), np.uint8) \n",
        "canvas_w = np.full((300,300,3), 255, np.uint8)\n",
        "\n",
        "#opencv에서 색은 (B,G,R)로 표현되지만 matplotlib에서는 (R,G,B)로 표현된다.\n",
        "opencv_red=(0,0,255)\n",
        "opencv_green=(0,255,0)\n",
        "opencv_blue=(255,0,0)\n",
        "\n",
        "#cv2.line(image, start, end, color, [thickness, linetype]): 직선함수\n",
        "cv2.line(canvas_b, (0,0),(300, 300), opencv_green) \n",
        "cv2.line(canvas_b, (0,150),(300,150), opencv_red, 10)  #라인두께:10\n",
        "\n",
        "cv2.line(canvas_w, (0,300),(300,0), opencv_green) \n",
        "cv2.line(canvas_w, (50,50),(300,180), opencv_red, 40, cv2.LINE_4)   #라인종류: 브레젠햄(Bresenham) 알고리즘의 4연결\n",
        "cv2.line(canvas_w, (50,120),(300,250), opencv_red, 40, cv2.LINE_8)  #라인종류: 브레젠햄(Bresenham) 알고리즘의 8연결\n",
        "cv2.line(canvas_w, (50,190),(300,320), opencv_red, 40, cv2.LINE_AA) #라인종류: 가우시안 필터\n",
        "\n",
        "cv2_imshow(canvas_b)\n",
        "cv2_imshow(canvas_w)"
      ],
      "execution_count": null,
      "outputs": []
    },
    {
      "cell_type": "code",
      "metadata": {
        "id": "uIf-p8LeDkfz"
      },
      "source": [
        "#opencv 색상을 matplotlib에서 표현\n",
        "images = [canvas_b, canvas_w]\n",
        "titles = ['Black Image','White Image']\n",
        "\n",
        "for i in range(len(images)):\n",
        "    plt.subplot(1,2,i+1),plt.imshow(images[i])\n",
        "    plt.title(titles[i])\n",
        "\n",
        "plt.show()"
      ],
      "execution_count": null,
      "outputs": []
    },
    {
      "cell_type": "markdown",
      "metadata": {
        "id": "6FvVx2IWFj08"
      },
      "source": [
        "**04.2 도형 그리기**"
      ]
    },
    {
      "cell_type": "markdown",
      "metadata": {
        "id": "yXvAguzMutmB"
      },
      "source": [
        "**사각형 그리기**\n",
        "```\n",
        "cv2.rectangle(image, start, end, color, [thickness, linetype]): 사각형 함수\n",
        "```\n",
        "Parameters:\t\n",
        "* **image** – 그림을 그릴 이미지 파일\n",
        "* **start** – 시작점 좌표 e.g. (0,0)\n",
        "* **end** – 끝점 좌표 e.g. (500. 500)\n",
        "* **color** – BGR형태의 Color e.g. (255,0,0)→파란색\n",
        "* **thickness** – 선의 두께 (픽셀, 정수, -1:채우기)\n",
        "\n",
        "<br>\n",
        "\n",
        "**원 그리기**\n",
        "```\n",
        "cv2.circle(image, center, radian, color, [thickness, linetype])\n",
        "```\n",
        "Parameters:\t\n",
        "* **image** – 그림을 그릴 이미지 파일\n",
        "* **center** – 원의 중심 좌표(x, y)\n",
        "* **radian** – 반지름\n",
        "* **color** – BGR형태의 Color e.g. (255,0,0)→파란색\n",
        "* **thickness** – 선의 두께 (픽셀, 정수, -1:채우기)\n",
        "\n",
        "<br>\n",
        "\n",
        "**타원 그리기**\n",
        "```\n",
        "cv2.ellipse(image, center, axes, angle, startAngle, endAngle, color, [thickness, linetype])\n",
        "```\n",
        "Parameters:\t\n",
        "* **image** – 그림을 그릴 이미지 파일\n",
        "* **axes** – 중심에서 가장 큰 거리와 작은 거리\n",
        "* **angle** – 타원의 기울기 각\n",
        "* **startAngle** – 타원의 시작 각도\n",
        "* **endAngle** – 타원이 끝나는 각도\n",
        "* **color** – BGR형태의 Color\n",
        "* **thickness** – 선의 두께 (픽셀, 정수, -1:채우기)\n",
        "\n",
        "<br>\n",
        "\n",
        "**다각형 선 그리기**\n",
        "```\n",
        "cv2.polylines(img, points, isClosed, color, [thickness, linetype])\n",
        "```\n",
        "Parameters:\t\n",
        "* **image** – 그림을 그릴 이미지 파일\n",
        "* **points** -  연결할 꼭지점 좌표들의 배열\n",
        "* **isClosed** – 닫흰 도형 여부\n",
        "* **color** – BGR형태의 Color\n",
        "* **thickness** – 선의 두께 (채우기X)\n",
        "\n",
        "<br>\n",
        "\n",
        "**다각형 채우기**\n",
        "```\n",
        "cv2.fillPoly(image, points, is_closed, color, [thickness, linetype])\n",
        "```\n",
        "* **image** – 그림을 그릴 이미지 파일\n",
        "* **points** -  연결할 꼭지점 좌표들의 배열\n",
        "* **isClosed** – 닫흰 도형 여부\n",
        "* **color** – BGR형태의 Color\n",
        "* **thickness** – 선의 두께\n"
      ]
    },
    {
      "cell_type": "code",
      "metadata": {
        "id": "1xOYyGAzuP3x"
      },
      "source": [
        "import cv2\n",
        "import numpy as np\n",
        "import matplotlib.pyplot as plt\n",
        "\n",
        "canvas_w = np.full((300,300,3), 255, np.uint8)\n",
        "cv2.rectangle(canvas_w,(0,0),(299,299),opencv_red)\n",
        "cv2.rectangle(canvas_w,(10,10),(80,80),opencv_green,4)\n",
        "cv2.rectangle(canvas_w,(80,80),(180,150),opencv_blue,-1)\n",
        "\n",
        "cv2.circle(canvas_w,(180,150),70,opencv_red)\n",
        "cv2.ellipse(canvas_w,(180,150),(50,100),0,0,360,opencv_green,4)\n",
        "cv2.ellipse(canvas_w,(210,210),(50,100),45,180,360,opencv_blue,4,cv2.LINE_AA)\n",
        "\n",
        "\n",
        "triangle1 = np.array([[10,200],[10, 240],[100, 220]])\n",
        "triangle2 = np.array([[10,260],[10, 290],[100, 290]])\n",
        "cv2.polylines(canvas_w, [triangle1], True, opencv_red,1)\n",
        "cv2.polylines(canvas_w, [triangle2], False, opencv_red,4)\n",
        "\n",
        "\n",
        "#opencv 색상을 opencv에서 표현\n",
        "cv2_imshow(canvas_w)\n",
        "#opencv 색상을 matplotlib에서 표현\n",
        "plt.imshow(canvas_w)\n",
        "plt.show()"
      ],
      "execution_count": null,
      "outputs": []
    },
    {
      "cell_type": "markdown",
      "metadata": {
        "id": "mkMN5VY_u6Lp"
      },
      "source": [
        "**04.3 글씨 쓰기**"
      ]
    },
    {
      "cell_type": "markdown",
      "metadata": {
        "id": "vFKnoGGFwmbt"
      },
      "source": [
        "```\n",
        "cv2.putText(img, text, position, font, fontSacle, color)\n",
        "```\n",
        "Parameters:\t\n",
        "* **image** – 그림을 그릴 이미지 파일\n",
        "* **text** – 표시할 문자열\n",
        "* **position** – 텍스트가 출력될 좌표 (좌측하단 기준: x,y)\n",
        "* **font** – 글씨체 CV2.FONT_XXX\n",
        "* **fontSacle** – 글씨 크기\n",
        "* **color** – RGB 폰트색상\n"
      ]
    },
    {
      "cell_type": "code",
      "metadata": {
        "id": "hzydaUpUwe8L"
      },
      "source": [
        "import cv2\n",
        "import numpy as np\n",
        "import matplotlib.pyplot as plt\n",
        "\n",
        "canvas_w = np.full((300,300,3), 255, np.uint8)\n",
        "\n",
        "\n",
        "cv2.putText(canvas_w, 'Plain', (10, 50), cv2.FONT_HERSHEY_PLAIN, 4, opencv_red)\n",
        "cv2.putText(canvas_w, 'Plain+Italic', (10, 100), cv2.FONT_HERSHEY_PLAIN|cv2.FONT_ITALIC, 4, opencv_green)\n",
        "cv2.putText(canvas_w, 'Plain+Italic', (10, 150), cv2.FONT_HERSHEY_DUPLEX, 2, opencv_blue)\n",
        "cv2.putText(canvas_w, 'Script Complex', (10, 200), cv2.FONT_HERSHEY_SCRIPT_SIMPLEX, 2, opencv_red)\n",
        "\n",
        "plt.imshow(canvas_w)\n",
        "plt.show()"
      ],
      "execution_count": null,
      "outputs": []
    },
    {
      "cell_type": "markdown",
      "metadata": {
        "id": "Qar17YgPu4zh"
      },
      "source": [
        "**04.4 ROI 표현하기II**"
      ]
    },
    {
      "cell_type": "code",
      "metadata": {
        "id": "3MeO53utu4zi"
      },
      "source": [
        "import cv2\n",
        "from google.colab.patches import cv2_imshow \n",
        "import matplotlib.pyplot as plt\n",
        "\n",
        "imagePath ='/content/drive/MyDrive/Colab Notebooks/photos/cat300x400.jpg' #이미지의 위치로 변경\n",
        "image = cv2.imread(imagePath) \n",
        "\n",
        "(x,y) = (50,65)\n",
        "(width,height) = (80,75)\n",
        "\n",
        "#부분 이미지 출력: image[Y-start:Y-end, X-start:X-end]\n",
        "ROI = image[y:y+height, x:x+height]\n",
        "cv2_imshow(ROI)\n",
        "\n",
        "\n",
        "#이미지 위에 ROI 그리기: cv2.rectangle(image, start, end, color, [thickness, linetype])  \n",
        "cv2.rectangle(image,(x,y),(x+width,y+height),(255,0,0),-1)\n",
        "cv2.putText(image,'CAT ROI',(x+7,y),cv2.FONT_HERSHEY_DUPLEX,0.5,(0,0,255))\n",
        "\n",
        "cv2_imshow(image)"
      ],
      "execution_count": null,
      "outputs": []
    }
  ]
}