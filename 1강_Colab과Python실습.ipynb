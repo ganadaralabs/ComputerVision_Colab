{
  "nbformat": 4,
  "nbformat_minor": 0,
  "metadata": {
    "colab": {
      "provenance": [],
      "toc_visible": true,
      "gpuType": "V28",
      "include_colab_link": true
    },
    "kernelspec": {
      "name": "python3",
      "display_name": "Python 3"
    },
    "accelerator": "TPU"
  },
  "cells": [
    {
      "cell_type": "markdown",
      "metadata": {
        "id": "view-in-github",
        "colab_type": "text"
      },
      "source": [
        "<a href=\"https://colab.research.google.com/github/ganadaralabs/ComputerVision_Colab/blob/main/1%EA%B0%95_Colab%EA%B3%BCPython%EC%8B%A4%EC%8A%B5.ipynb\" target=\"_parent\"><img src=\"https://colab.research.google.com/assets/colab-badge.svg\" alt=\"Open In Colab\"/></a>"
      ]
    },
    {
      "cell_type": "markdown",
      "metadata": {
        "id": "FJBfacbZAGp8"
      },
      "source": [
        ">**Colab Data Science Tutorial 01** created by [Jooyeon Lee](http://leejooyeon.com/) | Check out other colab codes on [GITHUB](https://github.com/ganadaralabs/ComputerVision_Colab)"
      ]
    },
    {
      "cell_type": "markdown",
      "metadata": {
        "id": "6MI85NTPRMx8"
      },
      "source": [
        "#실습1_**Colab** 소개\n",
        "\n",
        "\n",
        "**\"Colab\"**은 구글에서 만든 **Colaboratory**를 줄인 이름으로, Colab을 사용하여 파이썬 코드를 웹 브라우저에서 작성하고 실행할 수 있습니다.\n",
        "\n",
        "\n",
        "- Colab에서 호스팅한 *주피터 노트북(Jupyter notebooks)*을 **코랩 노트북(Colab notebooks)**이라고 부르며 Colab은 주피터 노트북을 사용하여 만들었기 때문에 주피터 노트북에서 사용할 수 있는 기능들을 Colab에서도 사용할 수 있습니다.\n",
        "\n",
        "- 파이썬 프로그래밍 시 필요한 라이브러리들이 Colab에 이미 설치되어있기 때문에 환경설정을 따로 할 필요가 없고, **GPU**를 **최장 12시간**까지 무료로 사용할 수 있으며, 다른 사람들과 쉽게 파이썬 프로젝트를 공유할 수 있습니다.\n",
        "\n",
        "- Colab 파일은 사용자의 G드라이브에 저장되고 Colab 코드는 사용자에게 할당된 개인 가상머신에서 실행됩니다.\n",
        "\n",
        "\n",
        "- 최장 사용시간을 넘기거나 중간에 Colab을 사용하지 않아 idle 상태가 지속되면 가상머신과 가상머신에 저장한 리소스가 지워집니다.\n",
        "\n",
        "<br>\n",
        "\n",
        "코랩 참고자료\n",
        "* [Overview of Colaboratory Features](https://colab.research.google.com/notebooks/basic_features_overview.ipynb)\n",
        "* [Colab FAQ](https://research.google.com/colaboratory/faq.html)\n",
        "* [External data: Local Files, Drive, Sheets, and Cloud Storage](https://colab.research.google.com/notebooks/io.ipynb)\n",
        "\n",
        "파이썬 리뷰 참고링크\n",
        "* [CS231n Python Tutorial With Google Colab](https://colab.research.google.com/github/cs231n/cs231n.github.io/blob/master/python-colab.ipynb#scrollTo=dzNng6vCL9eP)\n",
        "\n",
        "<br>\n",
        "\n",
        "\n",
        "\n",
        "\n",
        "\n",
        "\n",
        "\n"
      ]
    },
    {
      "cell_type": "markdown",
      "metadata": {
        "id": "rYmHDq-oSLV7"
      },
      "source": [
        "---\n",
        "##01 파이썬 코드 실행하기"
      ]
    },
    {
      "cell_type": "markdown",
      "metadata": {
        "id": "DnzHg-JFH4z0"
      },
      "source": [
        "**01.1 파이썬 리뷰**"
      ]
    },
    {
      "cell_type": "code",
      "metadata": {
        "id": "Jc4uqFx6SafL"
      },
      "source": [
        "a=1\n",
        "b=1.83\n",
        "c=a+b"
      ],
      "execution_count": null,
      "outputs": []
    },
    {
      "cell_type": "code",
      "metadata": {
        "id": "rYhyfSUUSizT",
        "colab": {
          "base_uri": "https://localhost:8080/"
        },
        "outputId": "f851bf3f-e3d0-43fa-ddf5-9e7b29cead92"
      },
      "source": [
        "print(a,b,c)\n",
        "print(type(a),type(b),type(c))"
      ],
      "execution_count": null,
      "outputs": [
        {
          "output_type": "stream",
          "name": "stdout",
          "text": [
            "1 1.83 2.83\n",
            "<class 'int'> <class 'float'> <class 'float'>\n"
          ]
        }
      ]
    },
    {
      "cell_type": "code",
      "metadata": {
        "id": "-AsjcOsVWc1z"
      },
      "source": [
        "c,d=True,False"
      ],
      "execution_count": null,
      "outputs": []
    },
    {
      "cell_type": "code",
      "metadata": {
        "id": "5Om8PpLIY_IW",
        "colab": {
          "base_uri": "https://localhost:8080/"
        },
        "outputId": "e883593d-f15e-4f76-d106-6c6f3e346bc0"
      },
      "source": [
        "print(a,b,c,d)\n",
        "print(type(a),type(b),type(c),type(d))"
      ],
      "execution_count": null,
      "outputs": [
        {
          "output_type": "stream",
          "name": "stdout",
          "text": [
            "1 1.83 True False\n",
            "<class 'int'> <class 'float'> <class 'bool'> <class 'bool'>\n"
          ]
        }
      ]
    },
    {
      "cell_type": "code",
      "metadata": {
        "id": "EG6fujrcV_N_",
        "colab": {
          "base_uri": "https://localhost:8080/"
        },
        "outputId": "3cbae573-779b-4e9f-9d26-2c5f990198f0"
      },
      "source": [
        "print(a+b+c+d)\n",
        "print(type(a+b+c+d))"
      ],
      "execution_count": null,
      "outputs": [
        {
          "output_type": "stream",
          "name": "stdout",
          "text": [
            "3.83\n",
            "<class 'float'>\n"
          ]
        }
      ]
    },
    {
      "cell_type": "code",
      "metadata": {
        "id": "UnH3I4-6ike4",
        "colab": {
          "base_uri": "https://localhost:8080/"
        },
        "outputId": "6230d355-bdb9-4dae-8282-7146b4fa7991"
      },
      "source": [
        "print(True==1,False == 0)\n",
        "print(True is 1,False is 0)\n",
        "print(True is not False)\n",
        "print(1 is not 1)"
      ],
      "execution_count": null,
      "outputs": [
        {
          "output_type": "stream",
          "name": "stdout",
          "text": [
            "True True\n",
            "False False\n",
            "True\n",
            "False\n"
          ]
        }
      ]
    },
    {
      "cell_type": "code",
      "metadata": {
        "id": "CCKxkH0tHA1t",
        "colab": {
          "base_uri": "https://localhost:8080/"
        },
        "outputId": "ce24cefb-92d3-4441-f225-882afede61fe"
      },
      "source": [
        "print(True,str(True))\n",
        "print(type(True),type(str(True)))\n",
        "print(True==str(True))"
      ],
      "execution_count": null,
      "outputs": [
        {
          "output_type": "stream",
          "name": "stdout",
          "text": [
            "True True\n",
            "<class 'bool'> <class 'str'>\n",
            "False\n"
          ]
        }
      ]
    },
    {
      "cell_type": "code",
      "metadata": {
        "id": "sTNfezaviqRI",
        "colab": {
          "base_uri": "https://localhost:8080/"
        },
        "outputId": "b944a99c-68f2-4094-ffbe-22dd7bc8919c"
      },
      "source": [
        "numbers = [1,2,3,4]\n",
        "names = ['가영','나영','다영','라영']\n",
        "\n",
        "for i,j in zip(numbers,names):\n",
        "  if i==1:\n",
        "    print(j+'이는 '+str(i)+'개의 아이스크림을 맛있게 먹었습니다.')\n",
        "  else:\n",
        "    print(j+'이는 '+str(i)+'개의 아이스크림을 먹고 배탈이 났습니다.')"
      ],
      "execution_count": null,
      "outputs": [
        {
          "output_type": "stream",
          "name": "stdout",
          "text": [
            "가영이는 1개의 아이스크림을 맛있게 먹었습니다.\n",
            "나영이는 2개의 아이스크림을 먹고 배탈이 났습니다.\n",
            "다영이는 3개의 아이스크림을 먹고 배탈이 났습니다.\n",
            "라영이는 4개의 아이스크림을 먹고 배탈이 났습니다.\n"
          ]
        }
      ]
    },
    {
      "cell_type": "code",
      "metadata": {
        "id": "_J7Y3u4zSZmQ",
        "colab": {
          "base_uri": "https://localhost:8080/"
        },
        "outputId": "26feb8d7-5f6c-4831-f569-78eb4830844e"
      },
      "source": [
        "numbers = [1, 2, 3, 4]\n",
        "\n",
        "def addition(x):\n",
        "    return x + 1\n",
        "\n",
        "result1 = map(addition, numbers)\n",
        "result2 = map(lambda x:x+1, numbers)\n",
        "\n",
        "print(\"result1: \",list(result1))\n",
        "print(\"result2: \",list(result2))"
      ],
      "execution_count": null,
      "outputs": [
        {
          "output_type": "stream",
          "name": "stdout",
          "text": [
            "result1:  [2, 3, 4, 5]\n",
            "result2:  [2, 3, 4, 5]\n"
          ]
        }
      ]
    },
    {
      "cell_type": "markdown",
      "metadata": {
        "id": "gjTCZYN3uJL3"
      },
      "source": [
        "**01.2 파이썬의 4가지 데이터 그룹**\n",
        "\n",
        "- **리스트(List)**: 요소에 순서가 있고 인덱스로 수정 가능하며 요소 중복 가능\n",
        "- **튜플(Tuple)**: 요소에 순서가 있고 인덱스로 수정 불가하며 요소 중복 가능\n",
        "- **셋/집합(Set)**: 요소에 순서가 없어서 인덱스화 되지 않고 요소 중복 불가\n",
        "- **딕셔너리/사전(Dictionary**): 요소에 순서가 있고 (파이썬3.7부터) 인덱스로 수정 가능. 요소는 Key-Value 쌍으로 이루어지고 증복 불가"
      ]
    },
    {
      "cell_type": "code",
      "metadata": {
        "id": "EO2vuwd0NdQb",
        "colab": {
          "base_uri": "https://localhost:8080/"
        },
        "outputId": "4524f79b-703a-4d96-b12e-8efea4ff240e"
      },
      "source": [
        "L = [1,2,3,4]\n",
        "T = (1,2,3,4)\n",
        "S = {1,2,3,4}\n",
        "D = {'1':2, '3':4}\n",
        "\n",
        "print(type(L))\n",
        "print(type(T))\n",
        "print(type(S))\n",
        "print(type(D))"
      ],
      "execution_count": null,
      "outputs": [
        {
          "output_type": "stream",
          "name": "stdout",
          "text": [
            "<class 'list'>\n",
            "<class 'tuple'>\n",
            "<class 'set'>\n",
            "<class 'dict'>\n"
          ]
        }
      ]
    },
    {
      "cell_type": "code",
      "metadata": {
        "id": "JtTczbsQKESV",
        "colab": {
          "base_uri": "https://localhost:8080/"
        },
        "outputId": "b43c1d04-8245-4f96-d195-e9daa8f251bb"
      },
      "source": [
        "numbers = [2, 2, 3, 3, 5, 4]\n",
        "names = ['가영','가영','나영','나영','라영','다영']\n",
        "\n",
        "print(list(numbers))\n",
        "print(tuple(numbers))\n",
        "print(set(numbers))\n",
        "\n",
        "print(list(names))\n",
        "print(tuple(names))\n",
        "print(set(names))"
      ],
      "execution_count": null,
      "outputs": [
        {
          "output_type": "stream",
          "name": "stdout",
          "text": [
            "[2, 2, 3, 3, 5, 4]\n",
            "(2, 2, 3, 3, 5, 4)\n",
            "{2, 3, 4, 5}\n",
            "['가영', '가영', '나영', '나영', '라영', '다영']\n",
            "('가영', '가영', '나영', '나영', '라영', '다영')\n",
            "{'가영', '라영', '나영', '다영'}\n"
          ]
        }
      ]
    },
    {
      "cell_type": "code",
      "metadata": {
        "id": "lvRbe51dX-po",
        "colab": {
          "base_uri": "https://localhost:8080/"
        },
        "outputId": "5c055b7f-5855-4173-aedf-6db77645b960"
      },
      "source": [
        "#리스트의 요소 변경\n",
        "ABC = [\"Apple\", \"Blue\", \"Cat\"]\n",
        "print(type(ABC))\n",
        "print(ABC[0])\n",
        "ABC[0]=\"Aloha\"\n",
        "print(ABC)"
      ],
      "execution_count": null,
      "outputs": [
        {
          "output_type": "stream",
          "name": "stdout",
          "text": [
            "<class 'list'>\n",
            "Apple\n",
            "['Aloha', 'Blue', 'Cat']\n"
          ]
        }
      ]
    },
    {
      "cell_type": "code",
      "metadata": {
        "id": "nmX5K3HHYLLe",
        "colab": {
          "base_uri": "https://localhost:8080/"
        },
        "outputId": "baef0a5f-e05d-40bd-ef34-8c7a0a2007c7"
      },
      "source": [
        "#튜플의 요소 변경\n",
        "ABC = (\"Apple\", \"Blue\", \"Cat\")\n",
        "print(type(ABC))\n",
        "print(ABC[0])\n",
        "#ABC[0]=\"Aloha\"\n",
        "print(ABC)"
      ],
      "execution_count": null,
      "outputs": [
        {
          "output_type": "stream",
          "name": "stdout",
          "text": [
            "<class 'tuple'>\n",
            "Apple\n",
            "('Apple', 'Blue', 'Cat')\n"
          ]
        }
      ]
    },
    {
      "cell_type": "code",
      "metadata": {
        "id": "mtF6oXM1YaAT",
        "colab": {
          "base_uri": "https://localhost:8080/"
        },
        "outputId": "085740c3-1653-469c-8471-46d485d54bcb"
      },
      "source": [
        "#셋의 요소 변경\n",
        "ABC = {\"Apple\", \"Blue\", \"Cat\"}\n",
        "print(type(ABC))\n",
        "#print(ABC[0])\n",
        "print(ABC)"
      ],
      "execution_count": null,
      "outputs": [
        {
          "output_type": "stream",
          "name": "stdout",
          "text": [
            "<class 'set'>\n",
            "{'Blue', 'Apple', 'Cat'}\n"
          ]
        }
      ]
    },
    {
      "cell_type": "code",
      "metadata": {
        "id": "lBex2Dp1WOJT",
        "colab": {
          "base_uri": "https://localhost:8080/"
        },
        "outputId": "d211d493-cf9b-47a8-8241-519a19a2a625"
      },
      "source": [
        "#튜플응용\n",
        "ABC = (\"Apple\", \"Blue\", \"Cat\")\n",
        "\n",
        "a, b, c = ABC\n",
        "print(a,b,c)\n",
        "\n",
        "(a,b,c) = (c,a,c)\n",
        "print(a,b,c)"
      ],
      "execution_count": null,
      "outputs": [
        {
          "output_type": "stream",
          "name": "stdout",
          "text": [
            "Apple Blue Cat\n",
            "Cat Apple Cat\n"
          ]
        }
      ]
    },
    {
      "cell_type": "markdown",
      "metadata": {
        "id": "4DZD1ehPDZmW"
      },
      "source": [
        "**01.3 메뉴에서 코드 실행하기/실행중지하기**\n",
        "\n",
        "1.   파이썬 코드를 부분 실행하고 싶을 때는:\n",
        "<br>상단 메뉴에서 **Runtime -> Run selection** (단축키: **[⌘/Ctrl] + [Shift] + [Enter]**)을 누르세요.\n",
        "\n",
        "2.   파이썬 코드를 전부 실행하고 싶을 때는:\n",
        "<br>상단 메뉴에서 **Runtime -> Run all** (단축키: **[⌘/Ctrl] + [F9]**)을 누르세요.\n",
        "\n",
        "3.   파이썬 코드를 실행 중 실행을 멈추고 싶을 때는:\n",
        "<br>상단 메뉴에서 **Runtime -> Interrupt execution** (단축키: **[⌘/Ctrl] + [M] + [I]**)을 누르세요.\n",
        "<br>"
      ]
    },
    {
      "cell_type": "code",
      "metadata": {
        "id": "tlED8Mv2DjuB",
        "colab": {
          "base_uri": "https://localhost:8080/"
        },
        "outputId": "4b9f47ee-6be5-4b60-e2d3-edb528d7fc5a"
      },
      "source": [
        "# 파이썬 코드 실행하고 중지하기\n",
        "import time\n",
        "print(\"Sleeping\")\n",
        "time.sleep(30) # 잠시 30초 동안 쉬겠습니다. 방해하지 마세요!\n",
        "print(\"Done Sleeping\")"
      ],
      "execution_count": null,
      "outputs": [
        {
          "output_type": "stream",
          "name": "stdout",
          "text": [
            "Sleeping\n",
            "Done Sleeping\n"
          ]
        }
      ]
    },
    {
      "cell_type": "markdown",
      "metadata": {
        "id": "LD4mxe42T4qG"
      },
      "source": [
        "---\n",
        "##02 **마크다운(Markdown)**이라고 불리는 마크업(Markup)글쓰기\n",
        "\n",
        "\n",
        "**\"마크다운(Markdown)\"**은 2004년에 Aaron Swartz와 John Gruber가 만든 **마크업 언어(Markup language)** 중 하나로 서식이 있는 일반적인 텍스트 문서를 작성할 때 가장 많이 쓰이는 형식입니다. *예: HTML(Hypertext Markup Language)*\n",
        "\n",
        "- 마이크로소프트의 MS오피스, 한글과컴퓨터의 한컴오피스와 같은 ***WYSIWYG*** *(What You See Is What You Get)*에디터와는 다르게 컴파일 후 서식을 확인할 수 있습니다.\n",
        "\n",
        "- 마크다운 문법을 지원하는 Github의 README.md, Juypter Notebook 등에서 사용할 수 있습니다.\n",
        "\n",
        "---"
      ]
    },
    {
      "cell_type": "markdown",
      "metadata": {
        "id": "qCU98KVFTc6x"
      },
      "source": [
        "**02.1 글꼴 서식**"
      ]
    },
    {
      "cell_type": "markdown",
      "metadata": {
        "id": "MEK6DTqTvV0w"
      },
      "source": [
        "```markdown\n",
        "**굵게** *기울게* _기울게_ ~~선긋기~~\n",
        "```\n",
        "**굵게** *기울게* _기울게_ ~~선긋기~~\n",
        "\n",
        "<br>"
      ]
    },
    {
      "cell_type": "markdown",
      "metadata": {
        "id": "Aoyef9jRZPLy"
      },
      "source": [
        "**02.2 목록/목차(unordered list/ordered list)**"
      ]
    },
    {
      "cell_type": "markdown",
      "metadata": {
        "id": "vNfQUHTYZXir"
      },
      "source": [
        "```markdown\n",
        "1. 첫번째 목차\n",
        "2. [ ] 체크박스가 있는 두번째 목차\n",
        "3. [x] 체크박스 표시가 된 세번째 목차\n",
        "```\n",
        "1. 첫번째 목차\n",
        "2. [ ] 체크박스가 있는 두번째 목차\n",
        "3. [x] 체크박스 표시가 된 세번째 목차\n",
        "\n",
        "<br>\n",
        "\n",
        "```markdown\n",
        "- 첫번째 목록\n",
        "- [ ] 체크박스가 있는 두번째 목록\n",
        "- [x] 체크박스 표시가 된 세번째 목록  \n",
        "```\n",
        "- 첫번째 목록\n",
        "- [ ] 체크박스가 있는 두번째 목록\n",
        "- [x] 체크박스 표시가 된 세번째 목록  \n",
        "\n",
        "<br>"
      ]
    },
    {
      "cell_type": "markdown",
      "metadata": {
        "id": "mEBE5Zii3Q_t"
      },
      "source": [
        "**02.3 제목(Headings)**"
      ]
    },
    {
      "cell_type": "markdown",
      "metadata": {
        "id": "ij7PWS-w3aTd"
      },
      "source": [
        "```markdown\n",
        "#Heading 1\n",
        "<h1>Heading 1</h1>\n",
        "```\n",
        "<h1>Heading 1</h1>\n",
        "\n",
        "<br>\n",
        "\n",
        "```markdown\n",
        "##Heading 2\n",
        "<h2>Heading 2</h2>\n",
        "```\n",
        "<h2>Heading 2</h2>\n",
        "\n",
        "<br>\n",
        "\n",
        "```markdown\n",
        "##Heading 3\n",
        "<h3>Heading 3</h3>\n",
        "```\n",
        "<h3>Heading 3</h3>\n",
        "\n",
        "<br>"
      ]
    },
    {
      "cell_type": "markdown",
      "metadata": {
        "id": "c3p6dPMz742-"
      },
      "source": [
        "**02.4 인용구문 들여쓰기(Quote Block Indentation)**"
      ]
    },
    {
      "cell_type": "markdown",
      "metadata": {
        "id": "3xYn9ArM79Dm"
      },
      "source": [
        "```markdown\n",
        ">한 번 들여쓰기\n",
        ">>두 번 들여쓰기\n",
        ">>>세 번 들여쓰기\n",
        "```\n",
        ">한 번 들여쓰기\n",
        ">>두 번 들여쓰기\n",
        ">>>세 번 들여쓰기\n",
        "\n",
        "<br>"
      ]
    },
    {
      "cell_type": "markdown",
      "metadata": {
        "id": "n3OCfh4d_evX"
      },
      "source": [
        "**02.5 코드블록(Code Block)**"
      ]
    },
    {
      "cell_type": "markdown",
      "metadata": {
        "id": "_c4mpapFyWRI"
      },
      "source": [
        "```markdown\n",
        "한 문장 속 코드 Block `코드 Block` 생성하기\n",
        "```\n",
        "\n",
        "한 문장 속 코드 Block `코드 Block` 생성하기\n",
        "\n",
        "<br>\n",
        "\n",
        "```` markdown\n",
        "```\n",
        "여러 문장을 코드블록으로 생성하기\n",
        "```\n",
        "````\n",
        "\n",
        "```\n",
        "여러 문장을 코드블록으로 생성하기\n",
        "```\n",
        "\n",
        "<br>"
      ]
    },
    {
      "cell_type": "markdown",
      "metadata": {
        "id": "Rdn28-MHtkss"
      },
      "source": [
        "**02.6 파이썬 구문 강조 (Syntax Highlighting)**"
      ]
    },
    {
      "cell_type": "markdown",
      "metadata": {
        "id": "I86KdwY1t43f"
      },
      "source": [
        "\n",
        "```` markdown\n",
        "``` python\n",
        "print(\"파이썬 형식 코드블록 생성하기\")\n",
        "```\n",
        "````\n",
        "\n",
        "``` python\n",
        "print(\"파이썬 형식 코드블록 생성하기\")\n",
        "```\n",
        "\n",
        "<br>"
      ]
    },
    {
      "cell_type": "markdown",
      "metadata": {
        "id": "WlDZlXAqTmjK"
      },
      "source": [
        "**02.7 테이블(Table)**"
      ]
    },
    {
      "cell_type": "markdown",
      "metadata": {
        "id": "tCsyts4lR7O_"
      },
      "source": [
        "```markdown\n",
        "첫번째 열 | 두번째 열\n",
        "--------|---------\n",
        "1행, 1열 | 1행, 2열\n",
        "2행, 1열 | 2행, 2열  \n",
        "\n",
        "```\n",
        "\n",
        "첫번째 열 | 두번째 열\n",
        "--------|---------\n",
        "1행, 1열 | 1행, 2열\n",
        "2행, 1열 | 2행, 2열  \n",
        "\n",
        "\n",
        "\n",
        "<br>\n"
      ]
    },
    {
      "cell_type": "markdown",
      "metadata": {
        "id": "DPkQu6b6upFE"
      },
      "source": [
        "##03 Colab에서 Bash/Shell 사용해 파일과 폴더를 저장 및 삭제하기\n"
      ]
    },
    {
      "cell_type": "markdown",
      "metadata": {
        "id": "fTytmzqa1FUz"
      },
      "source": [
        "**03.1 쉘 명령어 (Shell Commands)`!`와 매직 명령어(Magic Commands)`%` 사용법**\n",
        "\n",
        "주피터 노트북에서 설정된 쉘 환경의 명령어들을 [<b>`!`</b>]와 매직 명령어의 두 가지 버전 -- (1) <b>라인매직(line magic):`%`</b>과 (2) <b>셀매직(cell magic):`%%bash`</b> 혹은 <b>`%%shell`</b>을 사용해서 쓸 수 있습니다."
      ]
    },
    {
      "cell_type": "code",
      "metadata": {
        "id": "FbjbUna4x7P-"
      },
      "source": [
        "#Colab에 기본적으로 깔려있는 라이브러리\n",
        "!pip freeze"
      ],
      "execution_count": null,
      "outputs": []
    },
    {
      "cell_type": "code",
      "metadata": {
        "id": "5yBWqDc8iDsx",
        "colab": {
          "base_uri": "https://localhost:8080/"
        },
        "outputId": "2c5fa548-1847-4f94-a109-698874b28c1b"
      },
      "source": [
        "#파이썬 버전확인\n",
        "!python --version\n",
        "!python -V"
      ],
      "execution_count": null,
      "outputs": [
        {
          "output_type": "stream",
          "name": "stdout",
          "text": [
            "Python 3.7.12\n",
            "Python 3.7.12\n"
          ]
        }
      ]
    },
    {
      "cell_type": "code",
      "metadata": {
        "id": "RrzXU7A3Dyq_",
        "colab": {
          "base_uri": "https://localhost:8080/"
        },
        "outputId": "e2283901-3138-40c4-fe9f-d8e71fc6ed59"
      },
      "source": [
        "#파이썬 버전확인\n",
        "%%bash\n",
        "python --version\n",
        "python -V"
      ],
      "execution_count": null,
      "outputs": [
        {
          "output_type": "stream",
          "name": "stdout",
          "text": [
            "Python 3.7.12\n",
            "Python 3.7.12\n"
          ]
        }
      ]
    },
    {
      "cell_type": "code",
      "metadata": {
        "id": "9FYKMKz2OjFe",
        "colab": {
          "base_uri": "https://localhost:8080/",
          "height": 35
        },
        "outputId": "2a041f41-1662-48b4-b34d-8d0469e2d643"
      },
      "source": [
        "#현 디렉터리 확인\n",
        "%pwd"
      ],
      "execution_count": null,
      "outputs": [
        {
          "output_type": "execute_result",
          "data": {
            "application/vnd.google.colaboratory.intrinsic+json": {
              "type": "string"
            },
            "text/plain": [
              "'/content'"
            ]
          },
          "metadata": {},
          "execution_count": 20
        }
      ]
    },
    {
      "cell_type": "code",
      "metadata": {
        "id": "e3CskU7AYo5F",
        "colab": {
          "base_uri": "https://localhost:8080/"
        },
        "outputId": "e4b82fab-e9b6-4a71-960e-6055d6b3cb09"
      },
      "source": [
        "#현 디렉터리의 폴더와 파일 나열하기\n",
        "%ls"
      ],
      "execution_count": null,
      "outputs": [
        {
          "output_type": "stream",
          "name": "stdout",
          "text": [
            "\u001b[0m\u001b[01;34msample_data\u001b[0m/\n"
          ]
        }
      ]
    },
    {
      "cell_type": "code",
      "metadata": {
        "id": "q2p4n5Zy1IjW",
        "colab": {
          "base_uri": "https://localhost:8080/"
        },
        "outputId": "2690d859-5af6-4190-a658-9570a7c9b4a3"
      },
      "source": [
        "#디렉터리를 'sample_data'폴더의 위치로 옮기기\n",
        "%cd /content/sample_data/"
      ],
      "execution_count": null,
      "outputs": [
        {
          "output_type": "stream",
          "name": "stdout",
          "text": [
            "/content/sample_data\n"
          ]
        }
      ]
    },
    {
      "cell_type": "code",
      "metadata": {
        "id": "hmMyj_wQ1NyI",
        "colab": {
          "base_uri": "https://localhost:8080/"
        },
        "outputId": "b112b781-0b7e-4a2f-d618-f24a518cae4d"
      },
      "source": [
        "#한 단계 상위 디렉터리로 이동\n",
        "%cd ../"
      ],
      "execution_count": null,
      "outputs": [
        {
          "output_type": "stream",
          "name": "stdout",
          "text": [
            "/content\n"
          ]
        }
      ]
    },
    {
      "cell_type": "code",
      "metadata": {
        "id": "kekrwK5YKaX7",
        "colab": {
          "base_uri": "https://localhost:8080/"
        },
        "outputId": "9843d86e-adb4-4a85-a492-5ba96ba22780"
      },
      "source": [
        "#폴더 만들기\n",
        "%mkdir PracticeFolder\n",
        "%ls"
      ],
      "execution_count": null,
      "outputs": [
        {
          "output_type": "stream",
          "name": "stdout",
          "text": [
            "\u001b[0m\u001b[01;34mPracticeFolder\u001b[0m/  \u001b[01;34msample_data\u001b[0m/\n"
          ]
        }
      ]
    },
    {
      "cell_type": "code",
      "metadata": {
        "id": "AK_5Zmqqv178",
        "colab": {
          "base_uri": "https://localhost:8080/"
        },
        "outputId": "367146a6-59a8-475d-cede-c49677f0206e"
      },
      "source": [
        "#폴더 지우기\n",
        "%rmdir PracticeFolder\n",
        "%ls"
      ],
      "execution_count": null,
      "outputs": [
        {
          "output_type": "stream",
          "name": "stdout",
          "text": [
            "\u001b[0m\u001b[01;34msample_data\u001b[0m/\n"
          ]
        }
      ]
    },
    {
      "cell_type": "markdown",
      "metadata": {
        "id": "ggd1s6H5q3Nz"
      },
      "source": [
        "**03.2 폴더와 파일의 종류와 권한정보**\n",
        "\n",
        "```markdown\n",
        "drwxr-xr-x     |1     |root |root   |4096 |Jan 20 17:27 |sample_data\n",
        "파일종류와 권한정보 |링크수  |소유자 |소유그룹 |용량  |생성날짜       |파일이름\n",
        "\n",
        "\n",
        "1| 2 | 3 | 4     [파일종류와 파일 권한정보]     \n",
        "d|rwx|r-x|r-x    1:파일의 종류, 2:소유자의 권한, 3:그룹의 권한, 4:모든 사용자의 권한(공개)\n",
        "d|rwx|---|---    d:directory(폴더), -:regular file(일반파일), l:symbolic link(링크파일)\n",
        "-|rw-|---|---    r:read(읽기), w:write(쓰기), x:execute(실행)\n",
        "```\n",
        "\n"
      ]
    },
    {
      "cell_type": "code",
      "metadata": {
        "id": "fCpVKkh002uq",
        "colab": {
          "base_uri": "https://localhost:8080/"
        },
        "outputId": "0e4cffb0-b9bd-434c-95e1-ed260c5cca1d"
      },
      "source": [
        "#현 디렉터리의 폴더와 파일의 권한 나열하기\n",
        "print(\"%ls : 현위치의 폴더/파일 나열하기 -------------------------------------------\")\n",
        "%ls\n",
        "print(\"%ls -l : 현위치의 폴더/파일 권한 확인하기 ------------------------------------\")\n",
        "%ls -l"
      ],
      "execution_count": null,
      "outputs": [
        {
          "output_type": "stream",
          "name": "stdout",
          "text": [
            "%ls : 현위치의 폴더/파일 나열하기 -------------------------------------------\n",
            "\u001b[0m\u001b[01;34msample_data\u001b[0m/\n",
            "%ls -l : 현위치의 폴더/파일 권한 확인하기 ------------------------------------\n",
            "total 4\n",
            "drwxr-xr-x 1 root root 4096 Dec 23 14:32 \u001b[0m\u001b[01;34msample_data\u001b[0m/\n"
          ]
        }
      ]
    },
    {
      "cell_type": "markdown",
      "metadata": {
        "id": "fLEgx6C55ghH"
      },
      "source": [
        "**03.3 텍스트 입/출력과 텍스트 파일 저장 및 삭제하기**"
      ]
    },
    {
      "cell_type": "code",
      "metadata": {
        "id": "QPGSwHAq7NzL",
        "colab": {
          "base_uri": "https://localhost:8080/"
        },
        "outputId": "26b8324b-7c47-4e53-d4e1-ce1f7e69bf87"
      },
      "source": [
        "#텍스트 출력\n",
        "%%bash\n",
        "echo Hello\n",
        "echo How are you\n",
        "echo \"I am fine, thank you.\"\n",
        "echo -e \"I am fine,\\\\n - and you?\""
      ],
      "execution_count": null,
      "outputs": [
        {
          "output_type": "stream",
          "name": "stdout",
          "text": [
            "Hello\n",
            "How are you\n",
            "I am fine, thank you.\n",
            "I am fine,\n",
            " - and you?\n"
          ]
        }
      ]
    },
    {
      "cell_type": "code",
      "metadata": {
        "id": "oU4rxdksnhWa",
        "colab": {
          "base_uri": "https://localhost:8080/"
        },
        "outputId": "8398bea5-25df-486b-ee5b-198f32572a9d"
      },
      "source": [
        "#빈 텍스트 파일 만들기\n",
        "%%bash\n",
        "touch helloworld.txt\n",
        "echo \"---------------- Text File Contents ----------------\"\n",
        "cat helloworld.txt\n",
        "echo \"----------------- Gdrive Directory -----------------\"\n",
        "ls"
      ],
      "execution_count": null,
      "outputs": [
        {
          "output_type": "stream",
          "name": "stdout",
          "text": [
            "---------------- Text File Contents ----------------\n",
            "----------------- Gdrive Directory -----------------\n",
            "helloworld.txt\n",
            "sample_data\n"
          ]
        }
      ]
    },
    {
      "cell_type": "code",
      "metadata": {
        "id": "ARvrcKlj8ula",
        "colab": {
          "base_uri": "https://localhost:8080/"
        },
        "outputId": "bc94fb62-3e96-4dc8-cc0f-4ba46a1146f5"
      },
      "source": [
        "#텍스트가 저장된 새 텍스트 파일 만들기\n",
        "%%bash\n",
        "echo good bye > byeworld.txt\n",
        "echo \"---------------- Text File Contents ----------------\"\n",
        "cat byeworld.txt\n",
        "echo \"----------------- Gdrive Directory -----------------\"\n",
        "ls"
      ],
      "execution_count": null,
      "outputs": [
        {
          "output_type": "stream",
          "name": "stdout",
          "text": [
            "---------------- Text File Contents ----------------\n",
            "good bye\n",
            "----------------- Gdrive Directory -----------------\n",
            "byeworld.txt\n",
            "helloworld.txt\n",
            "sample_data\n"
          ]
        }
      ]
    },
    {
      "cell_type": "code",
      "metadata": {
        "id": "IUdHjf4AnloQ",
        "colab": {
          "base_uri": "https://localhost:8080/"
        },
        "outputId": "f6da319a-ed91-43c6-e406-ed2e0cc015c5"
      },
      "source": [
        "#텍스트가 저장된 새 텍스트 파일을 만들거나 기존 내용 덮어쓰기\n",
        "%%bash\n",
        "echo -e \"Hello, how are you?\\\\n - I am fine!\" > helloworld.txt\n",
        "echo \"---------------- Text File Contents ----------------\"\n",
        "cat helloworld.txt"
      ],
      "execution_count": null,
      "outputs": [
        {
          "output_type": "stream",
          "name": "stdout",
          "text": [
            "---------------- Text File Contents ----------------\n",
            "Hello, how are you?\n",
            " - I am fine!\n"
          ]
        }
      ]
    },
    {
      "cell_type": "code",
      "metadata": {
        "id": "hgzJ9_0W6sjB",
        "colab": {
          "base_uri": "https://localhost:8080/"
        },
        "outputId": "7bad2bec-480e-4f54-b28a-d98bb570a6f3"
      },
      "source": [
        "#텍스트가 저장된 새 텍스트 파일을 만들거나 텍스트 파일이 존재한다면 기존 내용에 추가하기\n",
        "%%bash\n",
        "echo -e \"Hello, how are you?\\\\n - I am fine!\" >> helloworld.txt\n",
        "echo \"---------------- Text File Contents ----------------\"\n",
        "cat helloworld.txt"
      ],
      "execution_count": null,
      "outputs": [
        {
          "output_type": "stream",
          "name": "stdout",
          "text": [
            "---------------- Text File Contents ----------------\n",
            "Hello, how are you?\n",
            " - I am fine!\n",
            "Hello, how are you?\n",
            " - I am fine!\n"
          ]
        }
      ]
    },
    {
      "cell_type": "code",
      "metadata": {
        "id": "O6AG576H0tVm",
        "colab": {
          "base_uri": "https://localhost:8080/"
        },
        "outputId": "24aa6939-2b6b-4951-af9f-a2d02547a61a"
      },
      "source": [
        "#텍스트 파일을 만드는 다른 방식\n",
        "with open('/content/anotherTextFile.txt', 'w') as f:\n",
        "  f.write('Another way to create a text file!')\n",
        "%cat /content/anotherTextFile.txt"
      ],
      "execution_count": null,
      "outputs": [
        {
          "output_type": "stream",
          "name": "stdout",
          "text": [
            "Another way to create a text file!"
          ]
        }
      ]
    },
    {
      "cell_type": "code",
      "metadata": {
        "id": "Gef6jYhBLXIP",
        "colab": {
          "base_uri": "https://localhost:8080/"
        },
        "outputId": "29b5c809-3324-460c-e628-ef8498a0a1f1"
      },
      "source": [
        "# 지정파일 하나만 지우기\n",
        "%rm anotherTextFile.txt\n",
        "%ls"
      ],
      "execution_count": null,
      "outputs": [
        {
          "output_type": "stream",
          "name": "stdout",
          "text": [
            "byeworld.txt  helloworld.txt  \u001b[0m\u001b[01;34msample_data\u001b[0m/\n"
          ]
        }
      ]
    },
    {
      "cell_type": "code",
      "metadata": {
        "id": "OjIbBHiyoaOJ",
        "colab": {
          "base_uri": "https://localhost:8080/"
        },
        "outputId": "c615555c-c23b-4183-e8dd-5a9cdcd13d46"
      },
      "source": [
        "# .txt로 끝나는 모든 파일 지우기\n",
        "%rm *.txt\n",
        "%ls -l"
      ],
      "execution_count": null,
      "outputs": [
        {
          "output_type": "stream",
          "name": "stdout",
          "text": [
            "total 4\n",
            "drwxr-xr-x 1 root root 4096 Dec 23 14:32 \u001b[0m\u001b[01;34msample_data\u001b[0m/\n"
          ]
        }
      ]
    },
    {
      "cell_type": "markdown",
      "source": [
        "##04 Colab에서 Bash/Shell 사용해 에러 예외처리 및 디버깅하는 방법\n",
        "\n",
        "만약 코드를 실행했을 때 오류가 나는 경우, 디버깅으로 문제를 찾아낼 수 있습니다.\n",
        "\n",
        "예를 들어 아래와 같이 오류가 나는 코드를 실행해봅니다."
      ],
      "metadata": {
        "id": "IR4ZlmswZJvn"
      }
    },
    {
      "cell_type": "code",
      "source": [
        "def divide(a,b):\n",
        "  return a/b\n",
        "\n",
        "def error_prone(input1, input2):\n",
        "  num1 = input1\n",
        "  num2 = input2\n",
        "  return divide(num1,num2)"
      ],
      "metadata": {
        "id": "_OU-H7oKaPC6"
      },
      "execution_count": null,
      "outputs": []
    },
    {
      "cell_type": "code",
      "source": [
        "error_prone(4,2)\n",
        "error_prone(4,0)"
      ],
      "metadata": {
        "colab": {
          "base_uri": "https://localhost:8080/",
          "height": 344
        },
        "id": "TpHzhOKTbLT1",
        "outputId": "14fd967e-9bd7-41db-edef-dcac273b611c"
      },
      "execution_count": null,
      "outputs": [
        {
          "output_type": "error",
          "ename": "ZeroDivisionError",
          "evalue": "ignored",
          "traceback": [
            "\u001b[0;31m---------------------------------------------------------------------------\u001b[0m",
            "\u001b[0;31mZeroDivisionError\u001b[0m                         Traceback (most recent call last)",
            "\u001b[0;32m<ipython-input-13-a79bafb31fc8>\u001b[0m in \u001b[0;36m<module>\u001b[0;34m()\u001b[0m\n\u001b[1;32m      1\u001b[0m \u001b[0merror_prone\u001b[0m\u001b[0;34m(\u001b[0m\u001b[0;36m4\u001b[0m\u001b[0;34m,\u001b[0m\u001b[0;36m2\u001b[0m\u001b[0;34m)\u001b[0m\u001b[0;34m\u001b[0m\u001b[0;34m\u001b[0m\u001b[0m\n\u001b[0;32m----> 2\u001b[0;31m \u001b[0merror_prone\u001b[0m\u001b[0;34m(\u001b[0m\u001b[0;36m4\u001b[0m\u001b[0;34m,\u001b[0m\u001b[0;36m0\u001b[0m\u001b[0;34m)\u001b[0m\u001b[0;34m\u001b[0m\u001b[0;34m\u001b[0m\u001b[0m\n\u001b[0m",
            "\u001b[0;32m<ipython-input-12-360e58b94e33>\u001b[0m in \u001b[0;36merror_prone\u001b[0;34m(input1, input2)\u001b[0m\n\u001b[1;32m      5\u001b[0m   \u001b[0mnum1\u001b[0m \u001b[0;34m=\u001b[0m \u001b[0minput1\u001b[0m\u001b[0;34m\u001b[0m\u001b[0;34m\u001b[0m\u001b[0m\n\u001b[1;32m      6\u001b[0m   \u001b[0mnum2\u001b[0m \u001b[0;34m=\u001b[0m \u001b[0minput2\u001b[0m\u001b[0;34m\u001b[0m\u001b[0;34m\u001b[0m\u001b[0m\n\u001b[0;32m----> 7\u001b[0;31m   \u001b[0;32mreturn\u001b[0m \u001b[0mdivide\u001b[0m\u001b[0;34m(\u001b[0m\u001b[0mnum1\u001b[0m\u001b[0;34m,\u001b[0m\u001b[0mnum2\u001b[0m\u001b[0;34m)\u001b[0m\u001b[0;34m\u001b[0m\u001b[0;34m\u001b[0m\u001b[0m\n\u001b[0m",
            "\u001b[0;32m<ipython-input-12-360e58b94e33>\u001b[0m in \u001b[0;36mdivide\u001b[0;34m(a, b)\u001b[0m\n\u001b[1;32m      1\u001b[0m \u001b[0;32mdef\u001b[0m \u001b[0mdivide\u001b[0m\u001b[0;34m(\u001b[0m\u001b[0ma\u001b[0m\u001b[0;34m,\u001b[0m\u001b[0mb\u001b[0m\u001b[0;34m)\u001b[0m\u001b[0;34m:\u001b[0m\u001b[0;34m\u001b[0m\u001b[0;34m\u001b[0m\u001b[0m\n\u001b[0;32m----> 2\u001b[0;31m   \u001b[0;32mreturn\u001b[0m \u001b[0ma\u001b[0m\u001b[0;34m/\u001b[0m\u001b[0mb\u001b[0m\u001b[0;34m\u001b[0m\u001b[0;34m\u001b[0m\u001b[0m\n\u001b[0m\u001b[1;32m      3\u001b[0m \u001b[0;34m\u001b[0m\u001b[0m\n\u001b[1;32m      4\u001b[0m \u001b[0;32mdef\u001b[0m \u001b[0merror_prone\u001b[0m\u001b[0;34m(\u001b[0m\u001b[0minput1\u001b[0m\u001b[0;34m,\u001b[0m \u001b[0minput2\u001b[0m\u001b[0;34m)\u001b[0m\u001b[0;34m:\u001b[0m\u001b[0;34m\u001b[0m\u001b[0;34m\u001b[0m\u001b[0m\n\u001b[1;32m      5\u001b[0m   \u001b[0mnum1\u001b[0m \u001b[0;34m=\u001b[0m \u001b[0minput1\u001b[0m\u001b[0;34m\u001b[0m\u001b[0;34m\u001b[0m\u001b[0m\n",
            "\u001b[0;31mZeroDivisionError\u001b[0m: division by zero"
          ]
        }
      ]
    },
    {
      "cell_type": "markdown",
      "source": [
        "**04.1 오류가 생겼을 때 트레이스백(traceback) 메세지 설정하기**\n",
        "\n",
        ": 트레이스백(traceback)이란 오류를 발생시킨 함수를 역추적한 리포트입니다.\n",
        "\n",
        "> A traceback is a report containing the function calls made in your code at a specific point.\n",
        "\n",
        "- `error-prone` 함수에 오류가 나면 무엇이 잘못되었는지 traceback으로 알려주는데,\n",
        "`%xmode` 매직 명령어로 얼마나 자세히 오류의 이유를 알려줄지 설정 할 수 있습니다.\n",
        "- `%xmode` *(**Exception mode**의 약자)*는 세 가지 모드를 제공합니다.\n",
        " - `Plain`, `Context`, `Verbose`\n",
        "  1. `Context` (context = 문맥) 모드는 오류가 생기기 전의 몇몇 코드 라인을 보여줍니다.\n",
        "      - 기본 설정은 `Context` 모드이며, 위에서 실행한 오류 메세지와 같습니다.\n",
        "  2. `Plain` (plain = 단순한, 평범한) 모드는 `Context` 보다 축약한 오류 메세지를 출력합니다.\n",
        "  3. `Verbose` (verbose = 말이 많은) 모드는 `Context` 보다 더 자세한 이유를 알려줍니다."
      ],
      "metadata": {
        "id": "Mo_eXgKGYYKQ"
      }
    },
    {
      "cell_type": "code",
      "source": [
        "%xmode Plain"
      ],
      "metadata": {
        "colab": {
          "base_uri": "https://localhost:8080/"
        },
        "id": "3hTY42ZBn8BO",
        "outputId": "d51cd9e8-0e18-463c-8848-325668edc328"
      },
      "execution_count": null,
      "outputs": [
        {
          "output_type": "stream",
          "name": "stdout",
          "text": [
            "Exception reporting mode: Plain\n"
          ]
        }
      ]
    },
    {
      "cell_type": "code",
      "source": [
        "error_prone(4,0)"
      ],
      "metadata": {
        "colab": {
          "base_uri": "https://localhost:8080/",
          "height": 252
        },
        "id": "xuTfw1wjoCCC",
        "outputId": "cf0f6a3c-e912-4641-8af2-ae0064e7d12d"
      },
      "execution_count": null,
      "outputs": [
        {
          "output_type": "error",
          "ename": "ZeroDivisionError",
          "evalue": "ignored",
          "traceback": [
            "Traceback \u001b[0;36m(most recent call last)\u001b[0m:\n",
            "  File \u001b[1;32m\"<ipython-input-15-dcdacf1b5a47>\"\u001b[0m, line \u001b[1;32m1\u001b[0m, in \u001b[1;35m<module>\u001b[0m\n    error_prone(4,0)\n",
            "  File \u001b[1;32m\"<ipython-input-12-360e58b94e33>\"\u001b[0m, line \u001b[1;32m7\u001b[0m, in \u001b[1;35merror_prone\u001b[0m\n    return divide(num1,num2)\n",
            "\u001b[0;36m  File \u001b[0;32m\"<ipython-input-12-360e58b94e33>\"\u001b[0;36m, line \u001b[0;32m2\u001b[0;36m, in \u001b[0;35mdivide\u001b[0;36m\u001b[0m\n\u001b[0;31m    return a/b\u001b[0m\n",
            "\u001b[0;31mZeroDivisionError\u001b[0m\u001b[0;31m:\u001b[0m division by zero\n"
          ]
        }
      ]
    },
    {
      "cell_type": "code",
      "source": [
        "%xmode Context"
      ],
      "metadata": {
        "colab": {
          "base_uri": "https://localhost:8080/"
        },
        "id": "3RlMbggmbtvT",
        "outputId": "98b82c3e-41d6-4965-e654-7631c4a56847"
      },
      "execution_count": null,
      "outputs": [
        {
          "output_type": "stream",
          "name": "stdout",
          "text": [
            "Exception reporting mode: Context\n"
          ]
        }
      ]
    },
    {
      "cell_type": "code",
      "source": [
        "error_prone(4,0)"
      ],
      "metadata": {
        "colab": {
          "base_uri": "https://localhost:8080/",
          "height": 325
        },
        "id": "O4WaElYrbxlp",
        "outputId": "b7b4ee09-bc9b-49f0-943b-f12271c9015a"
      },
      "execution_count": null,
      "outputs": [
        {
          "output_type": "error",
          "ename": "ZeroDivisionError",
          "evalue": "ignored",
          "traceback": [
            "\u001b[0;31m---------------------------------------------------------------------------\u001b[0m",
            "\u001b[0;31mZeroDivisionError\u001b[0m                         Traceback (most recent call last)",
            "\u001b[0;32m<ipython-input-17-dcdacf1b5a47>\u001b[0m in \u001b[0;36m<module>\u001b[0;34m()\u001b[0m\n\u001b[0;32m----> 1\u001b[0;31m \u001b[0merror_prone\u001b[0m\u001b[0;34m(\u001b[0m\u001b[0;36m4\u001b[0m\u001b[0;34m,\u001b[0m\u001b[0;36m0\u001b[0m\u001b[0;34m)\u001b[0m\u001b[0;34m\u001b[0m\u001b[0;34m\u001b[0m\u001b[0m\n\u001b[0m",
            "\u001b[0;32m<ipython-input-12-360e58b94e33>\u001b[0m in \u001b[0;36merror_prone\u001b[0;34m(input1, input2)\u001b[0m\n\u001b[1;32m      5\u001b[0m   \u001b[0mnum1\u001b[0m \u001b[0;34m=\u001b[0m \u001b[0minput1\u001b[0m\u001b[0;34m\u001b[0m\u001b[0;34m\u001b[0m\u001b[0m\n\u001b[1;32m      6\u001b[0m   \u001b[0mnum2\u001b[0m \u001b[0;34m=\u001b[0m \u001b[0minput2\u001b[0m\u001b[0;34m\u001b[0m\u001b[0;34m\u001b[0m\u001b[0m\n\u001b[0;32m----> 7\u001b[0;31m   \u001b[0;32mreturn\u001b[0m \u001b[0mdivide\u001b[0m\u001b[0;34m(\u001b[0m\u001b[0mnum1\u001b[0m\u001b[0;34m,\u001b[0m\u001b[0mnum2\u001b[0m\u001b[0;34m)\u001b[0m\u001b[0;34m\u001b[0m\u001b[0;34m\u001b[0m\u001b[0m\n\u001b[0m",
            "\u001b[0;32m<ipython-input-12-360e58b94e33>\u001b[0m in \u001b[0;36mdivide\u001b[0;34m(a, b)\u001b[0m\n\u001b[1;32m      1\u001b[0m \u001b[0;32mdef\u001b[0m \u001b[0mdivide\u001b[0m\u001b[0;34m(\u001b[0m\u001b[0ma\u001b[0m\u001b[0;34m,\u001b[0m\u001b[0mb\u001b[0m\u001b[0;34m)\u001b[0m\u001b[0;34m:\u001b[0m\u001b[0;34m\u001b[0m\u001b[0;34m\u001b[0m\u001b[0m\n\u001b[0;32m----> 2\u001b[0;31m   \u001b[0;32mreturn\u001b[0m \u001b[0ma\u001b[0m\u001b[0;34m/\u001b[0m\u001b[0mb\u001b[0m\u001b[0;34m\u001b[0m\u001b[0;34m\u001b[0m\u001b[0m\n\u001b[0m\u001b[1;32m      3\u001b[0m \u001b[0;34m\u001b[0m\u001b[0m\n\u001b[1;32m      4\u001b[0m \u001b[0;32mdef\u001b[0m \u001b[0merror_prone\u001b[0m\u001b[0;34m(\u001b[0m\u001b[0minput1\u001b[0m\u001b[0;34m,\u001b[0m \u001b[0minput2\u001b[0m\u001b[0;34m)\u001b[0m\u001b[0;34m:\u001b[0m\u001b[0;34m\u001b[0m\u001b[0;34m\u001b[0m\u001b[0m\n\u001b[1;32m      5\u001b[0m   \u001b[0mnum1\u001b[0m \u001b[0;34m=\u001b[0m \u001b[0minput1\u001b[0m\u001b[0;34m\u001b[0m\u001b[0;34m\u001b[0m\u001b[0m\n",
            "\u001b[0;31mZeroDivisionError\u001b[0m: division by zero"
          ]
        }
      ]
    },
    {
      "cell_type": "code",
      "source": [
        "%xmode Verbose"
      ],
      "metadata": {
        "colab": {
          "base_uri": "https://localhost:8080/"
        },
        "id": "A6Jx-CxAn3Al",
        "outputId": "511c2297-998c-4a28-bacd-a8456c06397f"
      },
      "execution_count": null,
      "outputs": [
        {
          "output_type": "stream",
          "name": "stdout",
          "text": [
            "Exception reporting mode: Verbose\n"
          ]
        }
      ]
    },
    {
      "cell_type": "code",
      "source": [
        "error_prone(4,0)"
      ],
      "metadata": {
        "colab": {
          "base_uri": "https://localhost:8080/",
          "height": 380
        },
        "id": "r_2xB7cJn2qH",
        "outputId": "47ff919c-04e1-4dc8-ec1a-1cce2d114b22"
      },
      "execution_count": null,
      "outputs": [
        {
          "output_type": "error",
          "ename": "ZeroDivisionError",
          "evalue": "ignored",
          "traceback": [
            "\u001b[0;31m---------------------------------------------------------------------------\u001b[0m",
            "\u001b[0;31mZeroDivisionError\u001b[0m                         Traceback (most recent call last)",
            "\u001b[0;32m<ipython-input-19-dcdacf1b5a47>\u001b[0m in \u001b[0;36m<module>\u001b[0;34m()\u001b[0m\n\u001b[0;32m----> 1\u001b[0;31m \u001b[0merror_prone\u001b[0m\u001b[0;34m(\u001b[0m\u001b[0;36m4\u001b[0m\u001b[0;34m,\u001b[0m\u001b[0;36m0\u001b[0m\u001b[0;34m)\u001b[0m\u001b[0;34m\u001b[0m\u001b[0;34m\u001b[0m\u001b[0m\n\u001b[0m        \u001b[0;36mglobal\u001b[0m \u001b[0;36merror_prone\u001b[0m \u001b[0;34m= <function error_prone at 0x7f1e05ff6680>\u001b[0m\n",
            "\u001b[0;32m<ipython-input-12-360e58b94e33>\u001b[0m in \u001b[0;36merror_prone\u001b[0;34m(input1=4, input2=0)\u001b[0m\n\u001b[1;32m      5\u001b[0m   \u001b[0mnum1\u001b[0m \u001b[0;34m=\u001b[0m \u001b[0minput1\u001b[0m\u001b[0;34m\u001b[0m\u001b[0;34m\u001b[0m\u001b[0m\n\u001b[1;32m      6\u001b[0m   \u001b[0mnum2\u001b[0m \u001b[0;34m=\u001b[0m \u001b[0minput2\u001b[0m\u001b[0;34m\u001b[0m\u001b[0;34m\u001b[0m\u001b[0m\n\u001b[0;32m----> 7\u001b[0;31m   \u001b[0;32mreturn\u001b[0m \u001b[0mdivide\u001b[0m\u001b[0;34m(\u001b[0m\u001b[0mnum1\u001b[0m\u001b[0;34m,\u001b[0m\u001b[0mnum2\u001b[0m\u001b[0;34m)\u001b[0m\u001b[0;34m\u001b[0m\u001b[0;34m\u001b[0m\u001b[0m\n\u001b[0m        \u001b[0;36mglobal\u001b[0m \u001b[0;36mdivide\u001b[0m \u001b[0;34m= <function divide at 0x7f1e05ff6290>\u001b[0m\u001b[0;34m\n        \u001b[0m\u001b[0;36mnum1\u001b[0m \u001b[0;34m= 4\u001b[0m\u001b[0;34m\n        \u001b[0m\u001b[0;36mnum2\u001b[0m \u001b[0;34m= 0\u001b[0m\n",
            "\u001b[0;32m<ipython-input-12-360e58b94e33>\u001b[0m in \u001b[0;36mdivide\u001b[0;34m(a=4, b=0)\u001b[0m\n\u001b[1;32m      1\u001b[0m \u001b[0;32mdef\u001b[0m \u001b[0mdivide\u001b[0m\u001b[0;34m(\u001b[0m\u001b[0ma\u001b[0m\u001b[0;34m,\u001b[0m\u001b[0mb\u001b[0m\u001b[0;34m)\u001b[0m\u001b[0;34m:\u001b[0m\u001b[0;34m\u001b[0m\u001b[0;34m\u001b[0m\u001b[0m\n\u001b[0;32m----> 2\u001b[0;31m   \u001b[0;32mreturn\u001b[0m \u001b[0ma\u001b[0m\u001b[0;34m/\u001b[0m\u001b[0mb\u001b[0m\u001b[0;34m\u001b[0m\u001b[0;34m\u001b[0m\u001b[0m\n\u001b[0m        \u001b[0;36ma\u001b[0m \u001b[0;34m= 4\u001b[0m\u001b[0;34m\n        \u001b[0m\u001b[0;36mb\u001b[0m \u001b[0;34m= 0\u001b[0m\n\u001b[1;32m      3\u001b[0m \u001b[0;34m\u001b[0m\u001b[0m\n\u001b[1;32m      4\u001b[0m \u001b[0;32mdef\u001b[0m \u001b[0merror_prone\u001b[0m\u001b[0;34m(\u001b[0m\u001b[0minput1\u001b[0m\u001b[0;34m,\u001b[0m \u001b[0minput2\u001b[0m\u001b[0;34m)\u001b[0m\u001b[0;34m:\u001b[0m\u001b[0;34m\u001b[0m\u001b[0;34m\u001b[0m\u001b[0m\n\u001b[1;32m      5\u001b[0m   \u001b[0mnum1\u001b[0m \u001b[0;34m=\u001b[0m \u001b[0minput1\u001b[0m\u001b[0;34m\u001b[0m\u001b[0;34m\u001b[0m\u001b[0m\n",
            "\u001b[0;31mZeroDivisionError\u001b[0m: division by zero"
          ]
        }
      ]
    },
    {
      "cell_type": "markdown",
      "source": [
        "**04.2 에러가 생겼을 때 디버깅하는 방법**\n",
        "\n",
        "파이썬은 코드를 한줄씩 관찰할 수 있는 파이썬 인터랙티브 디버깅 툴을 제공합니다.\n",
        "- Python debugger는 `pdb`\n",
        "- IPython debugger는 `ipdb`\n",
        "\n",
        "예외 처리(hitting an exception)가 필요할 때 IPython에서 사용하기 가장 편리한 매직 명령어는 `%debug`입니다.\n",
        "- 예외처리 오류가 생긴 뒤 `%debug`를 사용하면 오류가 났던 코드 부근을 보여주고 상호작용이 가능한 `ipdb` 디버깅 프롬트를 띄워줍니다.\n",
        "- `ipdb` 디버깅 툴을 종료하려면 `quit`를 입력합니다."
      ],
      "metadata": {
        "id": "5PHlVpa_s9g-"
      }
    },
    {
      "cell_type": "code",
      "source": [
        "%debug"
      ],
      "metadata": {
        "colab": {
          "base_uri": "https://localhost:8080/"
        },
        "id": "9m3VIqiKU3hK",
        "outputId": "e6c756ce-e3fc-42b4-af16-a19e4bcd2ead"
      },
      "execution_count": null,
      "outputs": [
        {
          "name": "stdout",
          "output_type": "stream",
          "text": [
            "> \u001b[0;32m<ipython-input-12-360e58b94e33>\u001b[0m(2)\u001b[0;36mdivide\u001b[0;34m()\u001b[0m\n",
            "\u001b[0;32m      1 \u001b[0;31m\u001b[0;32mdef\u001b[0m \u001b[0mdivide\u001b[0m\u001b[0;34m(\u001b[0m\u001b[0ma\u001b[0m\u001b[0;34m,\u001b[0m\u001b[0mb\u001b[0m\u001b[0;34m)\u001b[0m\u001b[0;34m:\u001b[0m\u001b[0;34m\u001b[0m\u001b[0;34m\u001b[0m\u001b[0m\n",
            "\u001b[0m\u001b[0;32m----> 2 \u001b[0;31m  \u001b[0;32mreturn\u001b[0m \u001b[0ma\u001b[0m\u001b[0;34m/\u001b[0m\u001b[0mb\u001b[0m\u001b[0;34m\u001b[0m\u001b[0;34m\u001b[0m\u001b[0m\n",
            "\u001b[0m\u001b[0;32m      3 \u001b[0;31m\u001b[0;34m\u001b[0m\u001b[0m\n",
            "\u001b[0m\u001b[0;32m      4 \u001b[0;31m\u001b[0;32mdef\u001b[0m \u001b[0merror_prone\u001b[0m\u001b[0;34m(\u001b[0m\u001b[0minput1\u001b[0m\u001b[0;34m,\u001b[0m \u001b[0minput2\u001b[0m\u001b[0;34m)\u001b[0m\u001b[0;34m:\u001b[0m\u001b[0;34m\u001b[0m\u001b[0;34m\u001b[0m\u001b[0m\n",
            "\u001b[0m\u001b[0;32m      5 \u001b[0;31m  \u001b[0mnum1\u001b[0m \u001b[0;34m=\u001b[0m \u001b[0minput1\u001b[0m\u001b[0;34m\u001b[0m\u001b[0;34m\u001b[0m\u001b[0m\n",
            "\u001b[0m\n",
            "ipdb> up\n",
            "> \u001b[0;32m<ipython-input-12-360e58b94e33>\u001b[0m(7)\u001b[0;36merror_prone\u001b[0;34m()\u001b[0m\n",
            "\u001b[0;32m      3 \u001b[0;31m\u001b[0;34m\u001b[0m\u001b[0m\n",
            "\u001b[0m\u001b[0;32m      4 \u001b[0;31m\u001b[0;32mdef\u001b[0m \u001b[0merror_prone\u001b[0m\u001b[0;34m(\u001b[0m\u001b[0minput1\u001b[0m\u001b[0;34m,\u001b[0m \u001b[0minput2\u001b[0m\u001b[0;34m)\u001b[0m\u001b[0;34m:\u001b[0m\u001b[0;34m\u001b[0m\u001b[0;34m\u001b[0m\u001b[0m\n",
            "\u001b[0m\u001b[0;32m      5 \u001b[0;31m  \u001b[0mnum1\u001b[0m \u001b[0;34m=\u001b[0m \u001b[0minput1\u001b[0m\u001b[0;34m\u001b[0m\u001b[0;34m\u001b[0m\u001b[0m\n",
            "\u001b[0m\u001b[0;32m      6 \u001b[0;31m  \u001b[0mnum2\u001b[0m \u001b[0;34m=\u001b[0m \u001b[0minput2\u001b[0m\u001b[0;34m\u001b[0m\u001b[0;34m\u001b[0m\u001b[0m\n",
            "\u001b[0m\u001b[0;32m----> 7 \u001b[0;31m  \u001b[0;32mreturn\u001b[0m \u001b[0mdivide\u001b[0m\u001b[0;34m(\u001b[0m\u001b[0mnum1\u001b[0m\u001b[0;34m,\u001b[0m\u001b[0mnum2\u001b[0m\u001b[0;34m)\u001b[0m\u001b[0;34m\u001b[0m\u001b[0;34m\u001b[0m\u001b[0m\n",
            "\u001b[0m\n",
            "ipdb> down\n",
            "> \u001b[0;32m<ipython-input-12-360e58b94e33>\u001b[0m(2)\u001b[0;36mdivide\u001b[0;34m()\u001b[0m\n",
            "\u001b[0;32m      1 \u001b[0;31m\u001b[0;32mdef\u001b[0m \u001b[0mdivide\u001b[0m\u001b[0;34m(\u001b[0m\u001b[0ma\u001b[0m\u001b[0;34m,\u001b[0m\u001b[0mb\u001b[0m\u001b[0;34m)\u001b[0m\u001b[0;34m:\u001b[0m\u001b[0;34m\u001b[0m\u001b[0;34m\u001b[0m\u001b[0m\n",
            "\u001b[0m\u001b[0;32m----> 2 \u001b[0;31m  \u001b[0;32mreturn\u001b[0m \u001b[0ma\u001b[0m\u001b[0;34m/\u001b[0m\u001b[0mb\u001b[0m\u001b[0;34m\u001b[0m\u001b[0;34m\u001b[0m\u001b[0m\n",
            "\u001b[0m\u001b[0;32m      3 \u001b[0;31m\u001b[0;34m\u001b[0m\u001b[0m\n",
            "\u001b[0m\u001b[0;32m      4 \u001b[0;31m\u001b[0;32mdef\u001b[0m \u001b[0merror_prone\u001b[0m\u001b[0;34m(\u001b[0m\u001b[0minput1\u001b[0m\u001b[0;34m,\u001b[0m \u001b[0minput2\u001b[0m\u001b[0;34m)\u001b[0m\u001b[0;34m:\u001b[0m\u001b[0;34m\u001b[0m\u001b[0;34m\u001b[0m\u001b[0m\n",
            "\u001b[0m\u001b[0;32m      5 \u001b[0;31m  \u001b[0mnum1\u001b[0m \u001b[0;34m=\u001b[0m \u001b[0minput1\u001b[0m\u001b[0;34m\u001b[0m\u001b[0;34m\u001b[0m\u001b[0m\n",
            "\u001b[0m\n",
            "ipdb> quit\n"
          ]
        }
      ]
    },
    {
      "cell_type": "markdown",
      "source": [
        "\n",
        "`ipdb` 디버깅 툴을 사용해 예외처리 오류 코드라인의 윗단계( `up` ) 혹은 아래단계( `down` )로 이동해 변수의 값도 확인하며 어떤 함수에서 오류가 났는지도 알 수 있습니다.\n",
        "```\n",
        "%debug\n",
        "\n",
        "> <ipython-input-1-360e58b94e33>(2)divide()\n",
        "      1 def divide(a,b):\n",
        "----> 2   return a/b\n",
        "      3\n",
        "      4 def error_prone(input1, input2):\n",
        "      5   num1 = input1\n",
        "\n",
        "ipdb> up\n",
        "> <ipython-input-1-360e58b94e33>(7)error_prone()\n",
        "      3\n",
        "      4 def error_prone(input1, input2):\n",
        "      5   num1 = input1\n",
        "      6   num2 = input2\n",
        "----> 7   return divide(num1,num2)\n",
        "\n",
        "ipdb> print(num1)\n",
        "4\n",
        "ipdb> print(num2)\n",
        "0\n",
        "ipdb> down\n",
        "> <ipython-input-1-360e58b94e33>(2)divide()\n",
        "      1 def divide(a,b):\n",
        "----> 2   return a/b\n",
        "      3\n",
        "      4 def error_prone(input1, input2):\n",
        "      5   num1 = input1\n",
        "\n",
        "ipdb> quit\n",
        "```\n"
      ],
      "metadata": {
        "id": "_i0pM7SsV3M1"
      }
    },
    {
      "cell_type": "markdown",
      "source": [
        "만약 오류가 발생할 때 마다 자동으로 `ipdb` 디버깅 툴을 실행하고 싶다면 아래와 같은 코드를 미리 띄워주면 됩니다."
      ],
      "metadata": {
        "id": "B5bnAENcXbHl"
      }
    },
    {
      "cell_type": "code",
      "source": [
        "%xmode Plain\n",
        "%pdb on"
      ],
      "metadata": {
        "colab": {
          "base_uri": "https://localhost:8080/"
        },
        "id": "YEKP7c9wXqtN",
        "outputId": "e7efaf48-e91f-4f71-fedb-7f08d69e4999"
      },
      "execution_count": null,
      "outputs": [
        {
          "output_type": "stream",
          "name": "stdout",
          "text": [
            "Exception reporting mode: Plain\n",
            "Automatic pdb calling has been turned ON\n"
          ]
        }
      ]
    },
    {
      "cell_type": "code",
      "source": [
        "error_prone(4,0)"
      ],
      "metadata": {
        "id": "u2rWX6ons1sp"
      },
      "execution_count": null,
      "outputs": []
    },
    {
      "cell_type": "markdown",
      "source": [
        "그 외의 더 자세한 명령어들은 `ipdb` 디버깅 툴에서 `help`를 띄워주면 확인 할 수 있습니다.\n",
        "\n",
        "\n",
        "```\n",
        "ipdb> help\n",
        "\n",
        "Documented commands (type help <topic>):\n",
        "========================================\n",
        "EOF    cl         disable  interact  next    psource  rv         unt   \n",
        "a      clear      display  j         p       q        s          until\n",
        "alias  commands   down     jump      pdef    quit     source     up    \n",
        "args   condition  enable   l         pdoc    r        step       w     \n",
        "b      cont       exit     list      pfile   restart  tbreak     whatis\n",
        "break  continue   h        ll        pinfo   return   u          where\n",
        "bt     d          help     longlist  pinfo2  retval   unalias  \n",
        "c      debug      ignore   n         pp      run      undisplay\n",
        "\n",
        "Miscellaneous help topics:\n",
        "==========================\n",
        "exec  pdb\n",
        "```"
      ],
      "metadata": {
        "id": "UAb96T-pZOGa"
      }
    },
    {
      "cell_type": "markdown",
      "source": [
        "마지막으로, 파이썬 파일을 실행 할 때부터 인터랙션이 가능한 디버깅 모드로 실행하고 싶다면 `%run -d your_script.py` 코드를 실행 후  `next` 를 입력하면 한 단계씩 코드를 실행할 수 있습니다."
      ],
      "metadata": {
        "id": "uPYBY631eROw"
      }
    },
    {
      "cell_type": "markdown",
      "source": [
        "##05 Colab에서 구글 드라이브와 스프레드 시트를 연동해 사용하는 방법"
      ],
      "metadata": {
        "id": "E8JPf33FZTPy"
      }
    },
    {
      "cell_type": "markdown",
      "metadata": {
        "id": "Swd9KFHxtNiy"
      },
      "source": [
        "**05.1 Colab 파일과 내 개인 계정의 구글 드라이브 연결하기**\n",
        "\n",
        "구글 드라이브를 연결하는 방법은 크게 세 가지가 있습니다.\n",
        "\n",
        "1. Colab 가상머신에 개인 구글 드라이브를 마운트(mount)\n",
        "2. [Google Drive API](https://developers.google.com/drive/api/v3/about-sdk)사용\n",
        "3. [PyDrive](https://pythonhosted.org/PyDrive/)와 같은 Drive API 파이썬 래퍼(wrapper)를 사용\n"
      ]
    },
    {
      "cell_type": "code",
      "metadata": {
        "id": "Vs6NSNw41hbr"
      },
      "source": [
        "#첫번째 방법을 사용해 구글드라이브를 마운트합니다.\n",
        "from google.colab import drive\n",
        "drive.mount('/content/drive',force_remount=True)"
      ],
      "execution_count": null,
      "outputs": []
    },
    {
      "cell_type": "code",
      "metadata": {
        "id": "gMxVtmDwmn7I"
      },
      "source": [
        "#구글 드라이브로 디렉터리를 옮기기\n",
        "%cd /content/drive/MyDrive/"
      ],
      "execution_count": null,
      "outputs": []
    },
    {
      "cell_type": "markdown",
      "metadata": {
        "id": "30wlw9dineqy"
      },
      "source": [
        "**05.2 Colab 파일과 내 개인 계정의 Gdrive 연결 끊기**"
      ]
    },
    {
      "cell_type": "code",
      "metadata": {
        "id": "yd3Kp3H5nAhM"
      },
      "source": [
        "#구글 드라이브와 연결 끊기\n",
        "from google.colab import drive\n",
        "drive.flush_and_unmount()"
      ],
      "execution_count": null,
      "outputs": []
    },
    {
      "cell_type": "markdown",
      "metadata": {
        "id": "svfTW9hs1BzW"
      },
      "source": [
        "**05.3 내 컴퓨터와 Colab 가상머신에서 파일 업로드/다운로드하기**"
      ]
    },
    {
      "cell_type": "code",
      "metadata": {
        "id": "CUKhZbPE7ff4"
      },
      "source": [
        "#내 컴퓨터의 로컬파일을 Colab 가상머신으로 업로드하기\n",
        "from google.colab import files\n",
        "\n",
        "uploaded = files.upload()\n",
        "\n",
        "for fileName in uploaded.keys():\n",
        "  print('\\n')\n",
        "  print('사용자가 {length}바이트 크기의 \"{name}\"파일을 업로드했습니다.'.format(name=fileName,length=len(uploaded[fileName])))\n",
        "  imagePath='/content/'+fileName\n",
        "\n",
        "for key in uploaded.keys():\n",
        "  print(key)\n",
        "  print(uploaded[key])\n",
        "  print('\\n')"
      ],
      "execution_count": null,
      "outputs": []
    },
    {
      "cell_type": "code",
      "metadata": {
        "id": "y4Z8AnRlL_gd"
      },
      "source": [
        "#Colab 가상머신의 파일을 내 컴퓨터로 다운로드하기\n",
        "from google.colab import files\n",
        "\n",
        "downloaded = files.download(imagePath)\n",
        "\n",
        "for fileName in uploaded.keys():\n",
        "  print('사용자가 {length}바이트 크기의 \"{name}\"파일을 다운로드 했습니다.'.format(name=fileName,length=len(uploaded[fileName])))\n",
        "  imagePath='/content/'+fileName\n",
        "\n",
        "for key in uploaded.keys():\n",
        "  print(key)\n",
        "  print(uploaded[key])\n",
        "  print('\\n')"
      ],
      "execution_count": null,
      "outputs": []
    },
    {
      "cell_type": "markdown",
      "metadata": {
        "id": "YLG-IjG-P8nv"
      },
      "source": [
        "**05.4 구글 스프레드시트 사용하기**"
      ]
    },
    {
      "cell_type": "code",
      "metadata": {
        "id": "e5AjQ5Y-QCtH"
      },
      "source": [
        "#구글 코랩 사용자 인증확인\n",
        "from google.colab import auth\n",
        "auth.authenticate_user()"
      ],
      "execution_count": null,
      "outputs": []
    },
    {
      "cell_type": "code",
      "metadata": {
        "id": "ETdh-lqLQP8x"
      },
      "source": [
        "#구글 스프레드시트 사용자 인증하기\n",
        "import gspread\n",
        "from oauth2client.client import GoogleCredentials\n",
        "gc = gspread.authorize(GoogleCredentials.get_application_default())"
      ],
      "execution_count": null,
      "outputs": []
    },
    {
      "cell_type": "code",
      "metadata": {
        "id": "cZz0kKP-Q2wM"
      },
      "source": [
        "#demo라는 스프레스시트 생성 후 sheet1 열기\n",
        "wb = gc.create('demo')\n",
        "ws = gc.open('demo').sheet1"
      ],
      "execution_count": null,
      "outputs": []
    },
    {
      "cell_type": "code",
      "metadata": {
        "id": "uIM8K3ygQ_6P"
      },
      "source": [
        "#셀 범위 정하기\n",
        "cells = ws.range('A1:B2')\n",
        "cells"
      ],
      "execution_count": null,
      "outputs": []
    },
    {
      "cell_type": "code",
      "metadata": {
        "id": "W6g4SixWRKJa"
      },
      "source": [
        "#셀값 입력\n",
        "cells[0].value = '첫번째 셀'\n",
        "cells[1].value = '두번째 셀'\n",
        "cells[2].value = '세번째 셀'\n",
        "cells[3].value = '네번째 셀'\n",
        "cells"
      ],
      "execution_count": null,
      "outputs": []
    },
    {
      "cell_type": "code",
      "metadata": {
        "id": "58s2jdaARf2F"
      },
      "source": [
        "#새로운 셀 값을 업데이트\n",
        "ws.update_cells(cells)"
      ],
      "execution_count": null,
      "outputs": []
    },
    {
      "cell_type": "code",
      "metadata": {
        "id": "w27-TAj1SB-j"
      },
      "source": [
        "#구글 스프레스시트 열어서 셀 데이터 불어오기\n",
        "wb2 = gc.open('demo')\n",
        "rows = wb2.sheet1.get_all_values()\n",
        "rows"
      ],
      "execution_count": null,
      "outputs": []
    },
    {
      "cell_type": "code",
      "metadata": {
        "id": "ECfpKsgFSlVB"
      },
      "source": [
        "import pandas as pd\n",
        "pd.DataFrame.from_records(rows)"
      ],
      "execution_count": null,
      "outputs": []
    },
    {
      "cell_type": "markdown",
      "metadata": {
        "id": "ofTJqf2kpnem"
      },
      "source": [
        "##06 Colab CPU/GPU/TPU 설정하기\n",
        "구글 Colab 가상머신은 CPU, GPU, TPU 세 가지 옵션을 제공합니다.\n",
        "\n",
        "메뉴에서 **Runtime** > **Change runtime type** 선택하면 옵션을 선택할 수 있습니다.\n",
        "\n",
        "1. CPU (Central Processing Unit))  \n",
        "\n",
        "2. [GPU](https://colab.research.google.com/notebooks/gpu.ipynb) (Graphics Processing Unit)\n",
        "\n",
        "3. [TPU](https://colab.research.google.com/notebooks/tpu.ipynb) (Tensor Processing Unit)\n",
        "\n"
      ]
    },
    {
      "cell_type": "code",
      "metadata": {
        "id": "h5LJLcj2yRUX",
        "colab": {
          "base_uri": "https://localhost:8080/"
        },
        "outputId": "32568e73-5dca-4254-9552-2d68ea03b23a"
      },
      "source": [
        "# CPU와 GPU 돌려보기\n",
        "# 메뉴에서 Runtime > Change Runtime Type > Hardware accelerator 옵션 중 \"T4 GPU\" 선택\n",
        "import tensorflow as tf\n",
        "import timeit\n",
        "\n",
        "# Check Tensorflow version\n",
        "print(\">> Tensorflow version \" + tf.__version__)\n",
        "\n",
        "# Check all connected device info\n",
        "all = tf.config.list_physical_devices()\n",
        "print(\">> All device info:\", all)\n",
        "\n",
        "# Check CPU info\n",
        "cpu = tf.config.list_physical_devices('CPU')\n",
        "print(\">> CPU info:\", cpu)\n",
        "\n",
        "# Check GPU info\n",
        "gpu = tf.config.list_physical_devices('GPU')\n",
        "print(\">> GPU info:\", gpu)\n",
        "\n",
        "# If GPU is not available, raise an error\n",
        "if not bool(gpu):\n",
        "  print('\\n\\n[GPU ERROR]'\n",
        "      '\\nThis error most likely means that this notebook is not configured to use a GPU.'\n",
        "      '\\nChange the hardware accelerator via the Runtime > Change Runtime Type menu.')\n",
        "  raise SystemError('GPU device not found')\n",
        "\n",
        "\n",
        "# Set up cpu_test() and gpu_test() for the speed comparison experiment.\n",
        "def cpu_test():\n",
        "    import tensorflow as tf\n",
        "    with tf.device('/cpu:0'):\n",
        "        random_image_cpu = tf.random.normal((100, 100, 100, 3))\n",
        "        net_cpu = tf.keras.layers.Conv2D(32, 7)(random_image_cpu)\n",
        "        return tf.math.reduce_sum(net_cpu)\n",
        "\n",
        "def gpu_test():\n",
        "    import tensorflow as tf\n",
        "    with tf.device('/device:GPU:0'):\n",
        "        random_image_gpu = tf.random.normal((100, 100, 100, 3))\n",
        "        net_gpu = tf.keras.layers.Conv2D(32, 7)(random_image_gpu)\n",
        "        return tf.math.reduce_sum(net_gpu)\n",
        "\n",
        "\n",
        "# Run the following operations 10 times.\n",
        "# cpu_test()\n",
        "# gpu_test()\n",
        "print('\\n## Time (s) to convolve 32x7x7x3 filter over random 100x100x100x3 images '\n",
        "      '(batch x height x width x channel).')\n",
        "print('## Sum of ten runs ...\\n')\n",
        "\n",
        "\n",
        "print('>> CPU (s):')\n",
        "cpu_time = timeit.timeit('cpu_test()', number=10, setup=\"from __main__ import cpu_test\")\n",
        "print(cpu_time)\n",
        "\n",
        "print('>> GPU (s):')\n",
        "gpu_time = timeit.timeit('gpu_test()', number=10, setup=\"from __main__ import gpu_test\")\n",
        "print(gpu_time)\n",
        "\n",
        "print('\\n>> GPU speedup over CPU: {:.2f}x'.format(cpu_time/gpu_time))"
      ],
      "execution_count": null,
      "outputs": [
        {
          "output_type": "stream",
          "name": "stdout",
          "text": [
            ">> Tensorflow version 2.17.0\n",
            ">> All device info: [PhysicalDevice(name='/physical_device:CPU:0', device_type='CPU'), PhysicalDevice(name='/physical_device:GPU:0', device_type='GPU')]\n",
            ">> CPU info: [PhysicalDevice(name='/physical_device:CPU:0', device_type='CPU')]\n",
            ">> GPU info: [PhysicalDevice(name='/physical_device:GPU:0', device_type='GPU')]\n",
            "\n",
            "## Time (s) to convolve 32x7x7x3 filter over random 100x100x100x3 images (batch x height x width x channel).\n",
            "## Sum of ten runs ...\n",
            "\n",
            ">> CPU (s):\n",
            "0.33670823700003893\n",
            ">> GPU (s):\n",
            "0.07026191199997811\n",
            "\n",
            ">> GPU speedup over CPU: 4.79x\n"
          ]
        }
      ]
    },
    {
      "cell_type": "code",
      "metadata": {
        "id": "kXtl7Z5e_Oek",
        "colab": {
          "base_uri": "https://localhost:8080/"
        },
        "outputId": "c0d57ea5-80b5-44ab-cafc-9e69f5e4702d"
      },
      "source": [
        "# CPU와 TPU 돌려보기\n",
        "# 메뉴에서 Runtime > Change Runtime Type > Hardware accelerator 옵션 중 \"TPU v2\" 선택\n",
        "import tensorflow as tf\n",
        "import timeit\n",
        "\n",
        "# Check Tensorflow version\n",
        "print(\">> Tensorflow version \" + tf.__version__)\n",
        "\n",
        "# Check all connected device info\n",
        "all = tf.config.list_physical_devices()\n",
        "print(\">> All device info:\", all)\n",
        "\n",
        "# Check CPU Info\n",
        "cpu = tf.config.list_physical_devices('CPU')\n",
        "print(\">> CPU info:\", cpu)\n",
        "\n",
        "# Check TPU info\n",
        "tpu = tf.config.list_physical_devices('TPU')\n",
        "print(\">> TPU info:\", tpu)\n",
        "\n",
        "# If TPU is not available, raise an error\n",
        "if not bool(tpu):\n",
        "  print('\\n\\n[TPU ERROR]'\n",
        "      '\\nThis error most likely means that this notebook is not configured to use a TPU.'\n",
        "      '\\nChange the hardware accelerator via the Runtime > Change Runtime Type menu.')\n",
        "  raise SystemError('TPU device not found')\n",
        "\n",
        "\n",
        "# Set up cpu_test() and tpu_test() for the speed comparison experiment.\n",
        "def cpu_test():\n",
        "  with tf.device('/cpu:0'):\n",
        "    random_image_cpu = tf.random.normal((100, 100, 100, 3))\n",
        "    net_cpu = tf.keras.layers.Conv2D(32, 7)(random_image_cpu)\n",
        "    return tf.math.reduce_sum(net_cpu)\n",
        "\n",
        "def tpu_test():\n",
        "    with tf.device('/TPU:0'):\n",
        "        random_image_tpu = tf.random.normal((100, 100, 100, 3))\n",
        "        net_tpu = tf.keras.layers.Conv2D(32, 7)(random_image_tpu)\n",
        "        return tf.math.reduce_sum(net_tpu)\n",
        "\n",
        "\n",
        "# Run the following operations 10 times.\n",
        "# cpu_test()\n",
        "# tpu_test()\n",
        "print('\\n## Time (s) to convolve 32x7x7x3 filter over random 100x100x100x3 images '\n",
        "      '(batch x height x width x channel).')\n",
        "print('## Sum of ten runs ...\\n')\n",
        "\n",
        "\n",
        "print('>> CPU (s):')\n",
        "cpu_time = timeit.timeit('cpu_test()', number=10, setup=\"from __main__ import cpu_test\")\n",
        "print(cpu_time)\n",
        "\n",
        "print('>> TPU (s):')\n",
        "tpu_time = timeit.timeit('tpu_test()', number=10, setup=\"from __main__ import tpu_test\")\n",
        "print(tpu_time)\n",
        "\n",
        "print('\\n>> TPU speedup over CPU: {:.2f}x'.format(cpu_time/tpu_time))"
      ],
      "execution_count": null,
      "outputs": [
        {
          "output_type": "stream",
          "name": "stdout",
          "text": [
            ">> Tensorflow version 2.15.0\n",
            ">> All device info: [PhysicalDevice(name='/physical_device:CPU:0', device_type='CPU'), PhysicalDevice(name='/physical_device:TPU_SYSTEM:0', device_type='TPU_SYSTEM'), PhysicalDevice(name='/physical_device:TPU:0', device_type='TPU'), PhysicalDevice(name='/physical_device:TPU:1', device_type='TPU'), PhysicalDevice(name='/physical_device:TPU:2', device_type='TPU'), PhysicalDevice(name='/physical_device:TPU:3', device_type='TPU'), PhysicalDevice(name='/physical_device:TPU:4', device_type='TPU'), PhysicalDevice(name='/physical_device:TPU:5', device_type='TPU'), PhysicalDevice(name='/physical_device:TPU:6', device_type='TPU'), PhysicalDevice(name='/physical_device:TPU:7', device_type='TPU')]\n",
            ">> CPU info: [PhysicalDevice(name='/physical_device:CPU:0', device_type='CPU')]\n",
            ">> TPU info: [PhysicalDevice(name='/physical_device:TPU:0', device_type='TPU'), PhysicalDevice(name='/physical_device:TPU:1', device_type='TPU'), PhysicalDevice(name='/physical_device:TPU:2', device_type='TPU'), PhysicalDevice(name='/physical_device:TPU:3', device_type='TPU'), PhysicalDevice(name='/physical_device:TPU:4', device_type='TPU'), PhysicalDevice(name='/physical_device:TPU:5', device_type='TPU'), PhysicalDevice(name='/physical_device:TPU:6', device_type='TPU'), PhysicalDevice(name='/physical_device:TPU:7', device_type='TPU')]\n",
            "\n",
            "## Time (s) to convolve 32x7x7x3 filter over random 100x100x100x3 images (batch x height x width x channel).\n",
            "## Sum of ten runs ...\n",
            "\n",
            ">> CPU (s):\n",
            "6.835715253999979\n",
            ">> TPU (s):\n",
            "2.300572858999999\n",
            "\n",
            ">> TPU speedup over CPU: 2.97x\n"
          ]
        }
      ]
    }
  ]
}