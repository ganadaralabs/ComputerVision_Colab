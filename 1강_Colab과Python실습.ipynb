{
  "nbformat": 4,
  "nbformat_minor": 0,
  "metadata": {
    "colab": {
      "name": "1강_Colab과Python실습.ipynb",
      "provenance": [],
      "collapsed_sections": [],
      "toc_visible": true,
      "authorship_tag": "ABX9TyPFk3+o2BX0euHQSTmnFpFE",
      "include_colab_link": true
    },
    "kernelspec": {
      "name": "python3",
      "display_name": "Python 3"
    },
    "accelerator": "TPU"
  },
  "cells": [
    {
      "cell_type": "markdown",
      "metadata": {
        "id": "view-in-github",
        "colab_type": "text"
      },
      "source": [
        "<a href=\"https://colab.research.google.com/github/ganadaralabs/ComputerVision_Colab/blob/main/1%EA%B0%95_Colab%EA%B3%BCPython%EC%8B%A4%EC%8A%B5.ipynb\" target=\"_parent\"><img src=\"https://colab.research.google.com/assets/colab-badge.svg\" alt=\"Open In Colab\"/></a>"
      ]
    },
    {
      "cell_type": "markdown",
      "metadata": {
        "id": "FJBfacbZAGp8"
      },
      "source": [
        ">**Colab Computer Vision Tutorial 01** created by [Jooyeon Lee](http://leejooyeon.com/) | Check out other colab codes on [GITHUB](https://github.com/ganadaralabs/ComputerVision_Colab)"
      ]
    },
    {
      "cell_type": "markdown",
      "metadata": {
        "id": "6MI85NTPRMx8"
      },
      "source": [
        "#실습1_**Colab** 소개\n",
        "\n",
        "\n",
        "**\"Colab\"**은 구글에서 만든 **Colaboratory**를 줄인 이름으로, Colab을 사용하여 파이썬 코드를 웹 브라우저에서 작성하고 실행할 수 있습니다. \n",
        "\n",
        "\n",
        "- Colab에서 호스팅한 *주피터 노트북(Jupyter notebooks)*을 **코랩 노트북(Colab notebooks)**이라고 부르며 Colab은 주피터 노트북을 사용하여 만들었기 때문에 주피터 노트북에서 사용할 수 있는 기능들을 Colab에서도 사용할 수 있습니다. \n",
        "\n",
        "- 파이썬 프로그래밍 시 필요한 라이브러리들이 Colab에 이미 설치되어있기 때문에 환경설정을 따로 할 필요가 없고, **GPU**를 **최장 12시간**까지 무료로 사용할 수 있으며, 다른 사람들과 쉽게 파이썬 프로젝트를 공유할 수 있습니다. \n",
        "\n",
        "- Colab 파일은 사용자의 G드라이브에 저장되고 Colab 코드는 사용자에게 할당된 개인 가상머신에서 실행됩니다. \n",
        "\n",
        "\n",
        "- 최장 사용시간을 넘기거나 중간에 Colab을 사용하지 않아 idle 상태가 지속되면 가상머신과 가상머신에 저장한 리소스가 지워집니다. \n",
        " \n",
        "<br>\n",
        "\n",
        "코랩 참고자료\n",
        "* [Overview of Colaboratory Features](https://colab.research.google.com/notebooks/basic_features_overview.ipynb)\n",
        "* [Colab FAQ](https://research.google.com/colaboratory/faq.html)\n",
        "* [External data: Local Files, Drive, Sheets, and Cloud Storage](https://colab.research.google.com/notebooks/io.ipynb)\n",
        "\n",
        "파이썬 리뷰 참고링크\n",
        "* [CS231n Python Tutorial With Google Colab](https://colab.research.google.com/github/cs231n/cs231n.github.io/blob/master/python-colab.ipynb#scrollTo=dzNng6vCL9eP)\n",
        "\n",
        "<br>\n",
        "\n",
        "\n",
        "\n",
        "\n",
        "\n",
        "\n",
        "\n"
      ]
    },
    {
      "cell_type": "markdown",
      "metadata": {
        "id": "rYmHDq-oSLV7"
      },
      "source": [
        "---\n",
        "##01 파이썬 코드 실행하기"
      ]
    },
    {
      "cell_type": "markdown",
      "metadata": {
        "id": "DnzHg-JFH4z0"
      },
      "source": [
        "**01.1 파이썬 리뷰**"
      ]
    },
    {
      "cell_type": "code",
      "metadata": {
        "id": "Jc4uqFx6SafL"
      },
      "source": [
        "a=1\n",
        "b=1.83\n",
        "c=a+b"
      ],
      "execution_count": null,
      "outputs": []
    },
    {
      "cell_type": "code",
      "metadata": {
        "id": "rYhyfSUUSizT"
      },
      "source": [
        "print(a,b,c)\n",
        "print(type(a),type(b),type(c))"
      ],
      "execution_count": null,
      "outputs": []
    },
    {
      "cell_type": "code",
      "metadata": {
        "id": "-AsjcOsVWc1z"
      },
      "source": [
        "c,d=True,False"
      ],
      "execution_count": null,
      "outputs": []
    },
    {
      "cell_type": "code",
      "metadata": {
        "id": "5Om8PpLIY_IW"
      },
      "source": [
        "print(a,b,c,d)\n",
        "print(type(a),type(b),type(c),type(d))"
      ],
      "execution_count": null,
      "outputs": []
    },
    {
      "cell_type": "code",
      "metadata": {
        "id": "EG6fujrcV_N_"
      },
      "source": [
        "print(a+b+c+d)\n",
        "print(type(a+b+c+d))"
      ],
      "execution_count": null,
      "outputs": []
    },
    {
      "cell_type": "code",
      "metadata": {
        "id": "UnH3I4-6ike4"
      },
      "source": [
        "print(True==1,False == 0)\n",
        "print(True is 1,False is 0)\n",
        "print(True is not False)\n",
        "print(1 is not 1)"
      ],
      "execution_count": null,
      "outputs": []
    },
    {
      "cell_type": "code",
      "metadata": {
        "id": "CCKxkH0tHA1t"
      },
      "source": [
        "print(True,str(True))\n",
        "print(type(True),type(str(True)))\n",
        "print(True==str(True))"
      ],
      "execution_count": null,
      "outputs": []
    },
    {
      "cell_type": "code",
      "metadata": {
        "id": "sTNfezaviqRI"
      },
      "source": [
        "numbers = [1,2,3,4]\n",
        "names = ['가영','나영','다영','라영']\n",
        "\n",
        "for i,j in zip(numbers,names):\n",
        "  if i==1:\n",
        "    print(j+'이는 '+str(i)+'개의 아이스크림을 맛있게 먹었습니다.')\n",
        "  else:\n",
        "    print(j+'이는 '+str(i)+'개의 아이스크림을 먹고 배탈이 났습니다.')"
      ],
      "execution_count": null,
      "outputs": []
    },
    {
      "cell_type": "code",
      "metadata": {
        "id": "_J7Y3u4zSZmQ"
      },
      "source": [
        "numbers = [1, 2, 3, 4]\n",
        "\n",
        "def addition(x): \n",
        "    return x + 1 \n",
        "\n",
        "result1 = map(addition, numbers) \n",
        "result2 = map(lambda x:x+1, numbers) \n",
        "\n",
        "print(\"result1: \",list(result1)) \n",
        "print(\"result2: \",list(result2)) "
      ],
      "execution_count": null,
      "outputs": []
    },
    {
      "cell_type": "markdown",
      "metadata": {
        "id": "gjTCZYN3uJL3"
      },
      "source": [
        "**01.2 파이썬의 4가지 데이터 그룹**\n",
        "\n",
        "- **리스트(List)**: 요소에 순서가 있고 인덱스로 수정 가능하며 요소 중복 가능\n",
        "- **튜플(Tuple)**: 요소에 순서가 있고 인덱스로 수정 불가하며 요소 중복 가능\n",
        "- **셋/집합(Set)**: 요소에 순서가 없어서 인덱스화 되지 않고 요소 중복 불가\n",
        "- **딕셔너리/사전(Dictionary**): 요소에 순서가 있고 (파이썬3.7부터) 인덱스로 수정 가능. 요소는 Key-Value 쌍으로 이루어지고 증복 불가"
      ]
    },
    {
      "cell_type": "code",
      "metadata": {
        "id": "EO2vuwd0NdQb"
      },
      "source": [
        "L = [1,2,3,4]\n",
        "T = (1,2,3,4)\n",
        "S = {1,2,3,4}\n",
        "D = {'1':2, '3':4}\n",
        "\n",
        "print(type(L))\n",
        "print(type(T))\n",
        "print(type(S))\n",
        "print(type(D))"
      ],
      "execution_count": null,
      "outputs": []
    },
    {
      "cell_type": "code",
      "metadata": {
        "id": "JtTczbsQKESV"
      },
      "source": [
        "numbers = [2, 2, 3, 3, 5, 4]\n",
        "names = ['가영','가영','나영','나영','라영','다영']\n",
        "\n",
        "print(list(numbers)) \n",
        "print(tuple(numbers)) \n",
        "print(set(numbers))\n",
        "\n",
        "print(list(names)) \n",
        "print(tuple(names)) \n",
        "print(set(names))"
      ],
      "execution_count": null,
      "outputs": []
    },
    {
      "cell_type": "code",
      "metadata": {
        "id": "lvRbe51dX-po"
      },
      "source": [
        "#리스트의 요소 변경\n",
        "ABC = [\"Apple\", \"Blue\", \"Cat\"]\n",
        "print(type(ABC))\n",
        "print(ABC[0])\n",
        "ABC[0]=\"Aloha\"\n",
        "print(ABC)"
      ],
      "execution_count": null,
      "outputs": []
    },
    {
      "cell_type": "code",
      "metadata": {
        "id": "nmX5K3HHYLLe"
      },
      "source": [
        "#튜플의 요소 변경\n",
        "ABC = (\"Apple\", \"Blue\", \"Cat\")\n",
        "print(type(ABC))\n",
        "print(ABC[0])\n",
        "#ABC[0]=\"Aloha\"\n",
        "print(ABC)"
      ],
      "execution_count": null,
      "outputs": []
    },
    {
      "cell_type": "code",
      "metadata": {
        "id": "mtF6oXM1YaAT"
      },
      "source": [
        "#셋의 요소 변경\n",
        "ABC = {\"Apple\", \"Blue\", \"Cat\"}\n",
        "print(type(ABC))\n",
        "#print(ABC[0])\n",
        "print(ABC)"
      ],
      "execution_count": null,
      "outputs": []
    },
    {
      "cell_type": "code",
      "metadata": {
        "id": "lBex2Dp1WOJT"
      },
      "source": [
        "#튜플응용\n",
        "ABC = (\"Apple\", \"Blue\", \"Cat\")\n",
        "\n",
        "a, b, c = ABC\n",
        "print(a,b,c)\n",
        "\n",
        "(a,b,c) = (c,a,c)\n",
        "print(a,b,c)"
      ],
      "execution_count": null,
      "outputs": []
    },
    {
      "cell_type": "markdown",
      "metadata": {
        "id": "4DZD1ehPDZmW"
      },
      "source": [
        "**01.3 메뉴에서 코드 실행하기/실행중지하기**\n",
        "\n",
        "1.   파이썬 코드를 부분 실행하고 싶을 때는:\n",
        "<br>상단 메뉴에서 **Runtime -> Run selection** (단축키: **[⌘/Ctrl] + [Shift] + [Enter]**)을 누르세요.\n",
        "\n",
        "2.   파이썬 코드를 전부 실행하고 싶을 때는:\n",
        "<br>상단 메뉴에서 **Runtime -> Run all** (단축키: **[⌘/Ctrl] + [F9]**)을 누르세요.\n",
        "\n",
        "3.   파이썬 코드를 실행 중 실행을 멈추고 싶을 때는:\n",
        "<br>상단 메뉴에서 **Runtime -> Interrupt execution** (단축키: **[⌘/Ctrl] + [M] + [I]**)을 누르세요.\n",
        "<br>"
      ]
    },
    {
      "cell_type": "code",
      "metadata": {
        "id": "tlED8Mv2DjuB"
      },
      "source": [
        "# 파이썬 코드 실행하고 중지하기\n",
        "import time\n",
        "print(\"Sleeping\")\n",
        "time.sleep(30) # 잠시 30초 동안 쉬겠습니다. 방해하지 마세요!\n",
        "print(\"Done Sleeping\")"
      ],
      "execution_count": null,
      "outputs": []
    },
    {
      "cell_type": "markdown",
      "metadata": {
        "id": "LD4mxe42T4qG"
      },
      "source": [
        "---\n",
        "##02 **마크다운(Markdown)**이라고 불리는 마크업(Markup)글쓰기\n",
        "\n",
        "\n",
        "**\"마크다운(Markdown)\"**은 2004년에 Aaron Swartz와 John Gruber가 만든 **마크업 언어(Markup language)** 중 하나로 서식이 있는 일반적인 텍스트 문서를 작성할 때 가장 많이 쓰이는 형식입니다. *예: HTML(Hypertext Markup Language)*\n",
        "\n",
        "- 마이크로소프트의 MS오피스, 한글과컴퓨터의 한컴오피스와 같은 ***WYSIWYG*** *(What You See Is What You Get)*에디터와는 다르게 컴파일 후 서식을 확인할 수 있습니다.\n",
        "\n",
        "- 마크다운 문법을 지원하는 Github의 README.md, Juypter Notebook 등에서 사용할 수 있습니다.\n",
        "\n",
        "---"
      ]
    },
    {
      "cell_type": "markdown",
      "metadata": {
        "id": "qCU98KVFTc6x"
      },
      "source": [
        "**02.1 글꼴 서식**"
      ]
    },
    {
      "cell_type": "markdown",
      "metadata": {
        "id": "MEK6DTqTvV0w"
      },
      "source": [
        "```markdown\n",
        "**굵게** *기울게* _기울게_ ~~선긋기~~\n",
        "```\n",
        "**굵게** *기울게* _기울게_ ~~선긋기~~\n",
        "\n",
        "<br>"
      ]
    },
    {
      "cell_type": "markdown",
      "metadata": {
        "id": "Aoyef9jRZPLy"
      },
      "source": [
        "**02.2 목록/목차(unordered list/ordered list)**"
      ]
    },
    {
      "cell_type": "markdown",
      "metadata": {
        "id": "vNfQUHTYZXir"
      },
      "source": [
        "```markdown\n",
        "1. 첫번째 목차\n",
        "2. [ ] 체크박스가 있는 두번째 목차\n",
        "3. [x] 체크박스 표시가 된 세번째 목차\n",
        "```\n",
        "1. 첫번째 목차\n",
        "2. [ ] 체크박스가 있는 두번째 목차\n",
        "3. [x] 체크박스 표시가 된 세번째 목차\n",
        "\n",
        "<br>\n",
        "\n",
        "```markdown\n",
        "- 첫번째 목록\n",
        "- [ ] 체크박스가 있는 두번째 목록\n",
        "- [x] 체크박스 표시가 된 세번째 목록  \n",
        "```\n",
        "- 첫번째 목록\n",
        "- [ ] 체크박스가 있는 두번째 목록\n",
        "- [x] 체크박스 표시가 된 세번째 목록  \n",
        "\n",
        "<br>"
      ]
    },
    {
      "cell_type": "markdown",
      "metadata": {
        "id": "mEBE5Zii3Q_t"
      },
      "source": [
        "**02.3 제목(Headings)**"
      ]
    },
    {
      "cell_type": "markdown",
      "metadata": {
        "id": "ij7PWS-w3aTd"
      },
      "source": [
        "```markdown\n",
        "#Heading 1 \n",
        "<h1>Heading 1</h1>\n",
        "```\n",
        "<h1>Heading 1</h1>\n",
        "\n",
        "<br>\n",
        "\n",
        "```markdown\n",
        "##Heading 2 \n",
        "<h2>Heading 2</h2>\n",
        "```\n",
        "<h2>Heading 2</h2>\n",
        "\n",
        "<br>\n",
        "\n",
        "```markdown\n",
        "##Heading 3 \n",
        "<h3>Heading 3</h3>\n",
        "```\n",
        "<h3>Heading 3</h3>\n",
        "\n",
        "<br>"
      ]
    },
    {
      "cell_type": "markdown",
      "metadata": {
        "id": "c3p6dPMz742-"
      },
      "source": [
        "**02.4 인용구문 들여쓰기(Quote Block Indentation)**"
      ]
    },
    {
      "cell_type": "markdown",
      "metadata": {
        "id": "3xYn9ArM79Dm"
      },
      "source": [
        "```markdown\n",
        ">한 번 들여쓰기\n",
        ">>두 번 들여쓰기\n",
        ">>>세 번 들여쓰기\n",
        "```\n",
        ">한 번 들여쓰기\n",
        ">>두 번 들여쓰기\n",
        ">>>세 번 들여쓰기\n",
        "\n",
        "<br>"
      ]
    },
    {
      "cell_type": "markdown",
      "metadata": {
        "id": "n3OCfh4d_evX"
      },
      "source": [
        "**02.5 코드블록(Code Block)**"
      ]
    },
    {
      "cell_type": "markdown",
      "metadata": {
        "id": "_c4mpapFyWRI"
      },
      "source": [
        "```markdown \n",
        "한 문장 속 코드 Block `코드 Block` 생성하기\n",
        "``` \n",
        " \n",
        "한 문장 속 코드 Block `코드 Block` 생성하기\n",
        "\n",
        "<br>\n",
        "\n",
        "```` markdown \n",
        "```\n",
        "여러 문장을 코드블록으로 생성하기\n",
        "```\n",
        "````\n",
        "\n",
        "``` \n",
        "여러 문장을 코드블록으로 생성하기\n",
        "```\n",
        "\n",
        "<br>"
      ]
    },
    {
      "cell_type": "markdown",
      "metadata": {
        "id": "Rdn28-MHtkss"
      },
      "source": [
        "**02.6 파이썬 구문 강조 (Syntax Highlighting)**"
      ]
    },
    {
      "cell_type": "markdown",
      "metadata": {
        "id": "I86KdwY1t43f"
      },
      "source": [
        "\n",
        "```` markdown \n",
        "``` python \n",
        "print(\"파이썬 형식 코드블록 생성하기\")\n",
        "```\n",
        "```` \n",
        "\n",
        "``` python \n",
        "print(\"파이썬 형식 코드블록 생성하기\")\n",
        "```\n",
        "\n",
        "<br>"
      ]
    },
    {
      "cell_type": "markdown",
      "metadata": {
        "id": "WlDZlXAqTmjK"
      },
      "source": [
        "**02.7 테이블(Table)**"
      ]
    },
    {
      "cell_type": "markdown",
      "metadata": {
        "id": "tCsyts4lR7O_"
      },
      "source": [
        "```markdown\n",
        "첫번째 열 | 두번째 열 \n",
        "--------|---------\n",
        "1행, 1열 | 1행, 2열 \n",
        "2행, 1열 | 2행, 2열  \n",
        "\n",
        "```\n",
        "\n",
        "첫번째 열 | 두번째 열 \n",
        "--------|---------\n",
        "1행, 1열 | 1행, 2열 \n",
        "2행, 1열 | 2행, 2열  \n",
        "\n",
        "\n",
        "\n",
        "<br>\n"
      ]
    },
    {
      "cell_type": "markdown",
      "metadata": {
        "id": "DPkQu6b6upFE"
      },
      "source": [
        "##03 Colab에서 Bash/Shell 사용해 파일과 폴더를 저장 및 삭제하기\n"
      ]
    },
    {
      "cell_type": "markdown",
      "metadata": {
        "id": "fTytmzqa1FUz"
      },
      "source": [
        "**03.1 쉘 명령어 (Shell Commands)`!`와 매직 명령어(Magic Commands)`%` 사용법**\n",
        "\n",
        "주피터 노트북에서 설정된 쉘 환경의 명령어들을 [<b>`!`</b>]와 매직 명령어의 두 가지 버전 -- (1) <b>라인매직(line magic):`%`</b>과 (2) <b>셀매직(cell magic):`%%bash`</b> 혹은 <b>`%%shell`</b>을 사용해서 쓸 수 있습니다."
      ]
    },
    {
      "cell_type": "code",
      "metadata": {
        "id": "FbjbUna4x7P-"
      },
      "source": [
        "#Colab에 기본적으로 깔려있는 라이브러리\n",
        "!pip freeze"
      ],
      "execution_count": null,
      "outputs": []
    },
    {
      "cell_type": "code",
      "metadata": {
        "id": "5yBWqDc8iDsx"
      },
      "source": [
        "#파이썬 버전확인\n",
        "!python --version\n",
        "!python -V"
      ],
      "execution_count": null,
      "outputs": []
    },
    {
      "cell_type": "code",
      "metadata": {
        "id": "RrzXU7A3Dyq_"
      },
      "source": [
        "#파이썬 버전확인\n",
        "%%bash\n",
        "python --version\n",
        "python -V"
      ],
      "execution_count": null,
      "outputs": []
    },
    {
      "cell_type": "code",
      "metadata": {
        "id": "9FYKMKz2OjFe"
      },
      "source": [
        "#현 디렉터리 확인\n",
        "%pwd"
      ],
      "execution_count": null,
      "outputs": []
    },
    {
      "cell_type": "code",
      "metadata": {
        "id": "e3CskU7AYo5F"
      },
      "source": [
        "#현 디렉터리의 폴더와 파일 나열하기\n",
        "%ls "
      ],
      "execution_count": null,
      "outputs": []
    },
    {
      "cell_type": "code",
      "metadata": {
        "id": "q2p4n5Zy1IjW"
      },
      "source": [
        "#디렉터리를 'sample_data'폴더의 위치로 옮기기\n",
        "%cd /content/sample_data/"
      ],
      "execution_count": null,
      "outputs": []
    },
    {
      "cell_type": "code",
      "metadata": {
        "id": "hmMyj_wQ1NyI"
      },
      "source": [
        "#한 단계 상위 디렉터리로 이동\n",
        "%cd ../"
      ],
      "execution_count": null,
      "outputs": []
    },
    {
      "cell_type": "code",
      "metadata": {
        "id": "kekrwK5YKaX7"
      },
      "source": [
        "#폴더 만들기\n",
        "%mkdir PracticeFolder\n",
        "%ls"
      ],
      "execution_count": null,
      "outputs": []
    },
    {
      "cell_type": "code",
      "metadata": {
        "id": "AK_5Zmqqv178"
      },
      "source": [
        "#폴더 지우기\n",
        "%rmdir PracticeFolder\n",
        "%ls"
      ],
      "execution_count": null,
      "outputs": []
    },
    {
      "cell_type": "markdown",
      "metadata": {
        "id": "ggd1s6H5q3Nz"
      },
      "source": [
        "**03.2 폴더와 파일의 종류와 권한정보**\n",
        "\n",
        "```markdown\n",
        "drwxr-xr-x     |1     |root |root   |4096 |Jan 20 17:27 |sample_data\n",
        "파일종류와 권한정보 |링크수  |소유자 |소유그룹 |용량  |생성날짜       |파일이름\n",
        "\n",
        "\n",
        "1| 2 | 3 | 4     [파일종류와 파일 권한정보]     \n",
        "d|rwx|r-x|r-x    1:파일의 종류, 2:소유자의 권한, 3:그룹의 권한, 4:모든 사용자의 권한(공개)\n",
        "d|rwx|---|---    d:directory(폴더), -:regular file(일반파일), l:symbolic link(링크파일) \n",
        "-|rw-|---|---    r:read(읽기), w:write(쓰기), x:execute(실행)\n",
        "```\n",
        "\n"
      ]
    },
    {
      "cell_type": "code",
      "metadata": {
        "id": "fCpVKkh002uq"
      },
      "source": [
        "#현 디렉터리의 폴더와 파일의 권한 나열하기\n",
        "print(\"%ls : 현위치의 폴더/파일 나열하기 -------------------------------------------\")\n",
        "%ls\n",
        "print(\"%ls -l : 현위치의 폴더/파일 권한 확인하기 ------------------------------------\")\n",
        "%ls -l"
      ],
      "execution_count": null,
      "outputs": []
    },
    {
      "cell_type": "markdown",
      "metadata": {
        "id": "fLEgx6C55ghH"
      },
      "source": [
        "**03.3 텍스트 입/출력과 텍스트 파일 저장 및 삭제하기**"
      ]
    },
    {
      "cell_type": "code",
      "metadata": {
        "id": "QPGSwHAq7NzL"
      },
      "source": [
        "#텍스트 출력\n",
        "%%bash\n",
        "echo Hello\n",
        "echo How are you \n",
        "echo \"I am fine, thank you.\"\n",
        "echo -e \"I am fine,\\\\n - and you?\""
      ],
      "execution_count": null,
      "outputs": []
    },
    {
      "cell_type": "code",
      "metadata": {
        "id": "oU4rxdksnhWa"
      },
      "source": [
        "#빈 텍스트 파일 만들기\n",
        "%%bash\n",
        "touch helloworld.txt\n",
        "echo \"---------------- Text File Contents ----------------\"\n",
        "cat helloworld.txt\n",
        "echo \"----------------- Gdrive Directory -----------------\"\n",
        "ls"
      ],
      "execution_count": null,
      "outputs": []
    },
    {
      "cell_type": "code",
      "metadata": {
        "id": "ARvrcKlj8ula"
      },
      "source": [
        "#텍스트가 저장된 새 텍스트 파일 만들기\n",
        "%%bash\n",
        "echo good bye > byeworld.txt\n",
        "echo \"---------------- Text File Contents ----------------\"\n",
        "cat byeworld.txt\n",
        "echo \"----------------- Gdrive Directory -----------------\"\n",
        "ls"
      ],
      "execution_count": null,
      "outputs": []
    },
    {
      "cell_type": "code",
      "metadata": {
        "id": "IUdHjf4AnloQ"
      },
      "source": [
        "#텍스트가 저장된 새 텍스트 파일을 만들거나 기존 내용 덮어쓰기\n",
        "%%bash\n",
        "echo -e \"Hello, how are you?\\\\n - I am fine!\" > helloworld.txt\n",
        "echo \"---------------- Text File Contents ----------------\"\n",
        "cat helloworld.txt"
      ],
      "execution_count": null,
      "outputs": []
    },
    {
      "cell_type": "code",
      "metadata": {
        "id": "hgzJ9_0W6sjB"
      },
      "source": [
        "#텍스트가 저장된 새 텍스트 파일을 만들거나 텍스트 파일이 존재한다면 기존 내용에 추가하기 \n",
        "%%bash\n",
        "echo -e \"Hello, how are you?\\\\n - I am fine!\" >> helloworld.txt\n",
        "echo \"---------------- Text File Contents ----------------\"\n",
        "cat helloworld.txt"
      ],
      "execution_count": null,
      "outputs": []
    },
    {
      "cell_type": "code",
      "metadata": {
        "id": "O6AG576H0tVm"
      },
      "source": [
        "#텍스트 파일을 만드는 다른 방식\n",
        "with open('/content/anotherTextFile.txt', 'w') as f:\n",
        "  f.write('Another way to create a text file!')\n",
        "%cat /content/anotherTextFile.txt"
      ],
      "execution_count": null,
      "outputs": []
    },
    {
      "cell_type": "code",
      "metadata": {
        "id": "Gef6jYhBLXIP"
      },
      "source": [
        "# 지정파일 하나만 지우기\n",
        "%rm anotherTextFile.txt\n",
        "%ls"
      ],
      "execution_count": null,
      "outputs": []
    },
    {
      "cell_type": "code",
      "metadata": {
        "id": "OjIbBHiyoaOJ"
      },
      "source": [
        "# .txt로 끝나는 모든 파일 지우기\n",
        "%rm *.txt\n",
        "%ls -l"
      ],
      "execution_count": null,
      "outputs": []
    },
    {
      "cell_type": "markdown",
      "metadata": {
        "id": "Swd9KFHxtNiy"
      },
      "source": [
        "**03.4 Colab 파일과 내 개인 계정의 구글 드라이브 연결하기**\n",
        "\n",
        "구글 드라이브를 연결하는 방법은 크게 세 가지가 있습니다. \n",
        "\n",
        "1. Colab 가상머신에 개인 구글 드라이브를 마운트(mount) \n",
        "2. [Google Drive API](https://developers.google.com/drive/api/v3/about-sdk)사용\n",
        "3. [PyDrive](https://pythonhosted.org/PyDrive/)와 같은 Drive API 파이썬 래퍼(wrapper)를 사용\n"
      ]
    },
    {
      "cell_type": "code",
      "metadata": {
        "id": "Vs6NSNw41hbr"
      },
      "source": [
        "#첫번째 방법을 사용해 구글드라이브를 마운트합니다.\n",
        "from google.colab import drive\n",
        "drive.mount('/content/drive',force_remount=True)"
      ],
      "execution_count": null,
      "outputs": []
    },
    {
      "cell_type": "code",
      "metadata": {
        "id": "gMxVtmDwmn7I"
      },
      "source": [
        "#구글 드라이브로 디렉터리를 옮기기\n",
        "%cd /content/drive/MyDrive/"
      ],
      "execution_count": null,
      "outputs": []
    },
    {
      "cell_type": "markdown",
      "metadata": {
        "id": "30wlw9dineqy"
      },
      "source": [
        "**03.5 Colab 파일과 내 개인 계정의 Gdrive 연결 끊기**"
      ]
    },
    {
      "cell_type": "code",
      "metadata": {
        "id": "yd3Kp3H5nAhM"
      },
      "source": [
        "#구글 드라이브와 연결 끊기\n",
        "from google.colab import drive\n",
        "drive.flush_and_unmount()"
      ],
      "execution_count": null,
      "outputs": []
    },
    {
      "cell_type": "markdown",
      "metadata": {
        "id": "svfTW9hs1BzW"
      },
      "source": [
        "**03.6 내 컴퓨터와 Colab 가상머신에서 파일 업로드/다운로드하기**"
      ]
    },
    {
      "cell_type": "code",
      "metadata": {
        "id": "CUKhZbPE7ff4"
      },
      "source": [
        "#내 컴퓨터의 로컬파일을 Colab 가상머신으로 업로드하기\n",
        "from google.colab import files\n",
        "\n",
        "uploaded = files.upload()\n",
        "\n",
        "for fileName in uploaded.keys():\n",
        "  print('\\n')\n",
        "  print('사용자가 {length}바이트 크기의 \"{name}\"파일을 업로드했습니다.'.format(name=fileName,length=len(uploaded[fileName])))\n",
        "  imagePath='/content/'+fileName\n",
        "\n",
        "for key in uploaded.keys():\n",
        "  print(key)\n",
        "  print(uploaded[key])\n",
        "  print('\\n')"
      ],
      "execution_count": null,
      "outputs": []
    },
    {
      "cell_type": "code",
      "metadata": {
        "id": "y4Z8AnRlL_gd"
      },
      "source": [
        "#Colab 가상머신의 파일을 내 컴퓨터로 다운로드하기\n",
        "from google.colab import files\n",
        "\n",
        "downloaded = files.download(imagePath)\n",
        "\n",
        "for fileName in uploaded.keys():\n",
        "  print('사용자가 {length}바이트 크기의 \"{name}\"파일을 다운로드 했습니다.'.format(name=fileName,length=len(uploaded[fileName])))\n",
        "  imagePath='/content/'+fileName\n",
        "\n",
        "for key in uploaded.keys():\n",
        "  print(key)\n",
        "  print(uploaded[key])\n",
        "  print('\\n')"
      ],
      "execution_count": null,
      "outputs": []
    },
    {
      "cell_type": "markdown",
      "metadata": {
        "id": "YLG-IjG-P8nv"
      },
      "source": [
        "**03.7 구글 스프레드시트 사용하기**"
      ]
    },
    {
      "cell_type": "code",
      "metadata": {
        "id": "e5AjQ5Y-QCtH"
      },
      "source": [
        "#구글 코랩 사용자 인증확인\n",
        "from google.colab import auth\n",
        "auth.authenticate_user()"
      ],
      "execution_count": null,
      "outputs": []
    },
    {
      "cell_type": "code",
      "metadata": {
        "id": "ETdh-lqLQP8x"
      },
      "source": [
        "#구글 스프레드시트 사용자 인증하기\n",
        "import gspread\n",
        "from oauth2client.client import GoogleCredentials\n",
        "gc = gspread.authorize(GoogleCredentials.get_application_default())"
      ],
      "execution_count": null,
      "outputs": []
    },
    {
      "cell_type": "code",
      "metadata": {
        "id": "cZz0kKP-Q2wM"
      },
      "source": [
        "#demo라는 스프레스시트 생성 후 sheet1 열기\n",
        "wb = gc.create('demo')\n",
        "ws = gc.open('demo').sheet1"
      ],
      "execution_count": null,
      "outputs": []
    },
    {
      "cell_type": "code",
      "metadata": {
        "id": "uIM8K3ygQ_6P"
      },
      "source": [
        "#셀 범위 정하기\n",
        "cells = ws.range('A1:B2')\n",
        "cells"
      ],
      "execution_count": null,
      "outputs": []
    },
    {
      "cell_type": "code",
      "metadata": {
        "id": "W6g4SixWRKJa"
      },
      "source": [
        "#셀값 입력\n",
        "cells[0].value = '첫번째 셀'\n",
        "cells[1].value = '두번째 셀'\n",
        "cells[2].value = '세번째 셀'\n",
        "cells[3].value = '네번째 셀'\n",
        "cells"
      ],
      "execution_count": null,
      "outputs": []
    },
    {
      "cell_type": "code",
      "metadata": {
        "id": "58s2jdaARf2F"
      },
      "source": [
        "#새로운 셀 값을 업데이트\n",
        "ws.update_cells(cells)"
      ],
      "execution_count": null,
      "outputs": []
    },
    {
      "cell_type": "code",
      "metadata": {
        "id": "w27-TAj1SB-j"
      },
      "source": [
        "#구글 스프레스시트 열어서 셀 데이터 불어오기\n",
        "wb2 = gc.open('demo')\n",
        "rows = wb2.sheet1.get_all_values()\n",
        "rows"
      ],
      "execution_count": null,
      "outputs": []
    },
    {
      "cell_type": "code",
      "metadata": {
        "id": "ECfpKsgFSlVB"
      },
      "source": [
        "import pandas as pd\n",
        "pd.DataFrame.from_records(rows)"
      ],
      "execution_count": null,
      "outputs": []
    },
    {
      "cell_type": "markdown",
      "metadata": {
        "id": "ofTJqf2kpnem"
      },
      "source": [
        "##04 Colab CPU/GPU/TPU 설정하기\n",
        "구글 Colab 가상머신은 CPU, GPU, TPU 세 가지 옵션을 제공합니다. \n",
        "\n",
        "메뉴에서 **Runtime** > **Change runtime type** 선택하면 옵션을 선택할 수 있습니다.\n",
        "\n",
        "1. CPU (Central Processing Unit))  \n",
        "\n",
        "2. [GPU](https://colab.research.google.com/notebooks/gpu.ipynb) (Graphics Processing Unit)\n",
        "\n",
        "3. [TPU](https://colab.research.google.com/notebooks/tpu.ipynb) (Tensor Processing Unit)\n",
        "\n"
      ]
    },
    {
      "cell_type": "code",
      "metadata": {
        "id": "h5LJLcj2yRUX"
      },
      "source": [
        "#CPU와 GPU 돌려보기\n",
        "%tensorflow_version 2.x\n",
        "import tensorflow as tf\n",
        "import timeit\n",
        "\n",
        "print(\"Tensorflow version \" + tf.__version__)\n",
        "\n",
        "device_name = tf.test.gpu_device_name()\n",
        "if device_name != '/device:GPU:0':\n",
        "  print(\n",
        "      '\\n\\nThis error most likely means that this notebook is not '\n",
        "      'configured to use a GPU.  Change this in Notebook Settings via the '\n",
        "      'command palette (cmd/ctrl-shift-P) or the Edit menu.\\n\\n')\n",
        "  raise SystemError('GPU device not found')\n",
        "\n",
        "def cpu():\n",
        "    import tensorflow as tf\n",
        "    with tf.device('/cpu:0'):\n",
        "        random_image_cpu = tf.random.normal((100, 100, 100, 3))\n",
        "        net_cpu = tf.keras.layers.Conv2D(32, 7)(random_image_cpu)\n",
        "        return tf.math.reduce_sum(net_cpu)\n",
        "\n",
        "def gpu():\n",
        "    import tensorflow as tf\n",
        "    with tf.device('/device:GPU:0'):\n",
        "        random_image_gpu = tf.random.normal((100, 100, 100, 3))\n",
        "        net_gpu = tf.keras.layers.Conv2D(32, 7)(random_image_gpu)\n",
        "        return tf.math.reduce_sum(net_gpu)\n",
        "  \n",
        "cpu()\n",
        "gpu()\n",
        "\n",
        "# Run the op several times.\n",
        "print('Time (s) to convolve 32x7x7x3 filter over random 100x100x100x3 images '\n",
        "      '(batch x height x width x channel). Sum of ten runs.')\n",
        "print('CPU (s):')\n",
        "cpu_time = timeit.timeit('cpu()', number=10, setup=\"from __main__ import cpu\")\n",
        "print(cpu_time)\n",
        "print('GPU (s):')\n",
        "gpu_time = timeit.timeit('gpu()', number=10, setup=\"from __main__ import gpu\")\n",
        "print(gpu_time)\n",
        "print('GPU speedup over CPU: {}x'.format(int(cpu_time/gpu_time)))"
      ],
      "execution_count": null,
      "outputs": []
    },
    {
      "cell_type": "code",
      "metadata": {
        "id": "kXtl7Z5e_Oek"
      },
      "source": [
        "#CPU와 TPU 돌려보기\n",
        "%tensorflow_version 2.x\n",
        "import tensorflow as tf\n",
        "import timeit\n",
        "#from __main__ import tpu\n",
        "print(\"Tensorflow version \" + tf.__version__)\n",
        "\n",
        "try:\n",
        "  tpu = tf.distribute.cluster_resolver.TPUClusterResolver()  # TPU detection\n",
        "  print('Running on TPU ', tpu.cluster_spec().as_dict()['worker'])\n",
        "except ValueError:\n",
        "  raise BaseException('ERROR: Not connected to a TPU runtime')\n",
        "\n",
        "tf.config.experimental_connect_to_cluster(tpu)\n",
        "tf.tpu.experimental.initialize_tpu_system(tpu)\n",
        "tpu_strategy = tf.distribute.experimental.TPUStrategy(tpu)\n",
        "\n",
        "def cpu():\n",
        "  with tf.device('/cpu:0'):\n",
        "    random_image_cpu = tf.random.normal((100, 100, 100, 3))\n",
        "    net_cpu = tf.keras.layers.Conv2D(32, 7)(random_image_cpu)\n",
        "    return tf.math.reduce_sum(net_cpu)\n",
        "\n",
        "def tpu():\n",
        "    with tf.device('/TPU:0'):\n",
        "        random_image_tpu = tf.random.normal((100, 100, 100, 3))\n",
        "        net_tpu = tf.keras.layers.Conv2D(32, 7)(random_image_tpu)\n",
        "        return tf.math.reduce_sum(net_tpu)\n",
        "\n",
        "cpu()\n",
        "tpu()\n",
        "\n",
        "print('Time (s) to convolve 32x7x7x3 filter over random 100x100x100x3 images '\n",
        "      '(batch x height x width x channel). Sum of ten runs.')\n",
        "print('CPU (s):')\n",
        "cpu_time = timeit.timeit('cpu()', number=10, setup=\"from __main__ import cpu\")\n",
        "print(cpu_time)\n",
        "print('TPU (s):')\n",
        "tpu_time = timeit.timeit('tpu()', number=10, setup=\"from __main__ import tpu\")\n",
        "print(tpu_time)\n",
        "print('TPU speedup over CPU: {}x'.format(int(cpu_time/tpu_time)))"
      ],
      "execution_count": null,
      "outputs": []
    }
  ]
}