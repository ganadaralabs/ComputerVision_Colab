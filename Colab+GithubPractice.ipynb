{
  "nbformat": 4,
  "nbformat_minor": 0,
  "metadata": {
    "colab": {
      "name": "Colab+GithubPractice.ipynb",
      "provenance": [],
      "collapsed_sections": [],
      "authorship_tag": "ABX9TyN4p0ENclIvgUR32n5bcD+a",
      "include_colab_link": true
    },
    "kernelspec": {
      "name": "python3",
      "display_name": "Python 3"
    }
  },
  "cells": [
    {
      "cell_type": "markdown",
      "metadata": {
        "id": "view-in-github",
        "colab_type": "text"
      },
      "source": [
        "<a href=\"https://colab.research.google.com/github/ganadaralabs/ComputerVision_Colab/blob/main/Colab%2BGithubPractice.ipynb\" target=\"_parent\"><img src=\"https://colab.research.google.com/assets/colab-badge.svg\" alt=\"Open In Colab\"/></a>"
      ]
    },
    {
      "cell_type": "code",
      "metadata": {
        "colab": {
          "base_uri": "https://localhost:8080/"
        },
        "id": "dOujAtklsc5h",
        "outputId": "840b9e0d-3e31-4979-e07a-6b2556b618be"
      },
      "source": [
        "print(\"Hello Colab and Github!\")"
      ],
      "execution_count": 1,
      "outputs": [
        {
          "output_type": "stream",
          "text": [
            "Hello Colab and Github!\n"
          ],
          "name": "stdout"
        }
      ]
    },
    {
      "cell_type": "markdown",
      "metadata": {
        "id": "PSL28AUlsqlK"
      },
      "source": [
        "#How to use Colab and Github together!\n",
        "\n",
        "Colab과 Github를 함께 연동하는 방법!"
      ]
    }
  ]
}