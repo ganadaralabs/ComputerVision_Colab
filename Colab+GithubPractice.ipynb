{
  "nbformat": 4,
  "nbformat_minor": 0,
  "metadata": {
    "colab": {
      "name": "Colab+GithubPractice.ipynb",
      "provenance": [],
      "collapsed_sections": [],
      "authorship_tag": "ABX9TyPwLiKz2PEr6V0OqSa4Z6bP",
      "include_colab_link": true
    },
    "kernelspec": {
      "name": "python3",
      "display_name": "Python 3"
    }
  },
  "cells": [
    {
      "cell_type": "markdown",
      "metadata": {
        "id": "view-in-github",
        "colab_type": "text"
      },
      "source": [
        "<a href=\"https://colab.research.google.com/github/ganadaralabs/ComputerVision_Colab/blob/main/Colab%2BGithubPractice.ipynb\" target=\"_parent\"><img src=\"https://colab.research.google.com/assets/colab-badge.svg\" alt=\"Open In Colab\"/></a>"
      ]
    },
    {
      "cell_type": "markdown",
      "metadata": {
        "id": "bfWIs2VBx9Lf"
      },
      "source": [
        "#Colab과 Github 연동하기\n",
        "Let's learn how to use Colab and Github together :)\n",
        "\n",
        "수정사항을 업데이트 해보겠습니다.\n"
      ]
    },
    {
      "cell_type": "code",
      "metadata": {
        "colab": {
          "base_uri": "https://localhost:8080/"
        },
        "id": "o-ZOET-OxzUu",
        "outputId": "98908e93-e98e-49e8-b980-463385dcc856"
      },
      "source": [
        "print(\"Bye Colab and Github!\")"
      ],
      "execution_count": 3,
      "outputs": [
        {
          "output_type": "stream",
          "text": [
            "Bye Colab and Github!\n"
          ],
          "name": "stdout"
        }
      ]
    }
  ]
}