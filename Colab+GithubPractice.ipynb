{
  "nbformat": 4,
  "nbformat_minor": 0,
  "metadata": {
    "colab": {
      "name": "Colab+GithubPractice.ipynb",
      "provenance": [],
      "collapsed_sections": [],
      "authorship_tag": "ABX9TyOWHAIoEC52sq8jw9jj+Dac",
      "include_colab_link": true
    },
    "kernelspec": {
      "name": "python3",
      "display_name": "Python 3"
    }
  },
  "cells": [
    {
      "cell_type": "markdown",
      "metadata": {
        "id": "view-in-github",
        "colab_type": "text"
      },
      "source": [
        "<a href=\"https://colab.research.google.com/github/ganadaralabs/ComputerVision_Colab/blob/main/Colab%2BGithubPractice.ipynb\" target=\"_parent\"><img src=\"https://colab.research.google.com/assets/colab-badge.svg\" alt=\"Open In Colab\"/></a>"
      ]
    },
    {
      "cell_type": "markdown",
      "metadata": {
        "id": "PSL28AUlsqlK"
      },
      "source": [
        "#How to use Colab and Github together!\n",
        "\n",
        "Colab과 Github를 함께 연동하는 방법!\n",
        "\n",
        "다시 추가로 수정해봅니다."
      ]
    },
    {
      "cell_type": "code",
      "metadata": {
        "colab": {
          "base_uri": "https://localhost:8080/"
        },
        "id": "dOujAtklsc5h",
        "outputId": "63ac7e1a-da6f-4be4-fd0e-cbb38172ed2c"
      },
      "source": [
        "print(\"Bye Colab and Github!\")"
      ],
      "execution_count": 2,
      "outputs": [
        {
          "output_type": "stream",
          "text": [
            "Bye Colab and Github!\n"
          ],
          "name": "stdout"
        }
      ]
    }
  ]
}